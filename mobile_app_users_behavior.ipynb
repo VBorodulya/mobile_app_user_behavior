{
 "cells": [
  {
   "cell_type": "markdown",
   "id": "4a97d2b7",
   "metadata": {},
   "source": [
    "# Описание проекта\n",
    "\n",
    "## Задача\n",
    "\n",
    "Провести анализ данных и понять, как ведут себя пользователи мобильного приложения по продаже продуктов питания.\n",
    "\n",
    "## Цели\n",
    "\n",
    "1. Изучить воронку событий\n",
    "2. Понять, как пользователи доходят до покупки\n",
    "3. Сколько пользователей доходит до покупки\n",
    "4. Сколько «застревает» на предыдущих шагах\n",
    "5. Выяснить, на каких шагах это происходит\n",
    "6. Провести анализ результатов A/A/B-теста\n",
    "7. Выяснить, какой шрифт лучше\n",
    "\n",
    "## Ход исследования\n",
    "\n",
    "1. Обзор данных\n",
    "2. Подготовка данных\n",
    "3. Изучение и проверка данных\n",
    "4. Изучение воронки событий\n",
    "5. Изучение результатов эксперимента\n",
    "6. Вывод"
   ]
  },
  {
   "cell_type": "markdown",
   "id": "8a1c821f",
   "metadata": {},
   "source": [
    "# 1. Обзор данных"
   ]
  },
  {
   "cell_type": "code",
   "execution_count": 1,
   "id": "9c4e4387",
   "metadata": {
    "ExecuteTime": {
     "end_time": "2023-08-25T09:17:15.172511Z",
     "start_time": "2023-08-25T09:17:14.334422Z"
    }
   },
   "outputs": [],
   "source": [
    "import pandas as pd\n",
    "import re\n",
    "from datetime import datetime\n",
    "import matplotlib.pyplot as plt\n",
    "import numpy as np\n",
    "from collections import defaultdict\n",
    "import scipy\n",
    "from scipy import stats as st\n",
    "import math as mth"
   ]
  },
  {
   "cell_type": "code",
   "execution_count": 2,
   "id": "cdad9292",
   "metadata": {
    "ExecuteTime": {
     "end_time": "2023-08-25T09:17:15.507142Z",
     "start_time": "2023-08-25T09:17:14.338221Z"
    }
   },
   "outputs": [],
   "source": [
    "# Загружаем данные\n",
    "logs_exp = pd.read_csv('logs_exp.csv', sep='\\t')"
   ]
  },
  {
   "cell_type": "code",
   "execution_count": 3,
   "id": "82fee8d5",
   "metadata": {
    "ExecuteTime": {
     "end_time": "2023-08-25T09:17:15.507833Z",
     "start_time": "2023-08-25T09:17:14.430442Z"
    }
   },
   "outputs": [
    {
     "data": {
      "text/html": [
       "<div>\n",
       "<style scoped>\n",
       "    .dataframe tbody tr th:only-of-type {\n",
       "        vertical-align: middle;\n",
       "    }\n",
       "\n",
       "    .dataframe tbody tr th {\n",
       "        vertical-align: top;\n",
       "    }\n",
       "\n",
       "    .dataframe thead th {\n",
       "        text-align: right;\n",
       "    }\n",
       "</style>\n",
       "<table border=\"1\" class=\"dataframe\">\n",
       "  <thead>\n",
       "    <tr style=\"text-align: right;\">\n",
       "      <th></th>\n",
       "      <th>EventName</th>\n",
       "      <th>DeviceIDHash</th>\n",
       "      <th>EventTimestamp</th>\n",
       "      <th>ExpId</th>\n",
       "    </tr>\n",
       "  </thead>\n",
       "  <tbody>\n",
       "    <tr>\n",
       "      <th>0</th>\n",
       "      <td>MainScreenAppear</td>\n",
       "      <td>4575588528974610257</td>\n",
       "      <td>1564029816</td>\n",
       "      <td>246</td>\n",
       "    </tr>\n",
       "    <tr>\n",
       "      <th>1</th>\n",
       "      <td>MainScreenAppear</td>\n",
       "      <td>7416695313311560658</td>\n",
       "      <td>1564053102</td>\n",
       "      <td>246</td>\n",
       "    </tr>\n",
       "    <tr>\n",
       "      <th>2</th>\n",
       "      <td>PaymentScreenSuccessful</td>\n",
       "      <td>3518123091307005509</td>\n",
       "      <td>1564054127</td>\n",
       "      <td>248</td>\n",
       "    </tr>\n",
       "    <tr>\n",
       "      <th>3</th>\n",
       "      <td>CartScreenAppear</td>\n",
       "      <td>3518123091307005509</td>\n",
       "      <td>1564054127</td>\n",
       "      <td>248</td>\n",
       "    </tr>\n",
       "    <tr>\n",
       "      <th>4</th>\n",
       "      <td>PaymentScreenSuccessful</td>\n",
       "      <td>6217807653094995999</td>\n",
       "      <td>1564055322</td>\n",
       "      <td>248</td>\n",
       "    </tr>\n",
       "    <tr>\n",
       "      <th>5</th>\n",
       "      <td>CartScreenAppear</td>\n",
       "      <td>6217807653094995999</td>\n",
       "      <td>1564055323</td>\n",
       "      <td>248</td>\n",
       "    </tr>\n",
       "    <tr>\n",
       "      <th>6</th>\n",
       "      <td>OffersScreenAppear</td>\n",
       "      <td>8351860793733343758</td>\n",
       "      <td>1564066242</td>\n",
       "      <td>246</td>\n",
       "    </tr>\n",
       "    <tr>\n",
       "      <th>7</th>\n",
       "      <td>MainScreenAppear</td>\n",
       "      <td>5682100281902512875</td>\n",
       "      <td>1564085677</td>\n",
       "      <td>246</td>\n",
       "    </tr>\n",
       "    <tr>\n",
       "      <th>8</th>\n",
       "      <td>MainScreenAppear</td>\n",
       "      <td>1850981295691852772</td>\n",
       "      <td>1564086702</td>\n",
       "      <td>247</td>\n",
       "    </tr>\n",
       "    <tr>\n",
       "      <th>9</th>\n",
       "      <td>MainScreenAppear</td>\n",
       "      <td>5407636962369102641</td>\n",
       "      <td>1564112112</td>\n",
       "      <td>246</td>\n",
       "    </tr>\n",
       "  </tbody>\n",
       "</table>\n",
       "</div>"
      ],
      "text/plain": [
       "                 EventName         DeviceIDHash  EventTimestamp  ExpId\n",
       "0         MainScreenAppear  4575588528974610257      1564029816    246\n",
       "1         MainScreenAppear  7416695313311560658      1564053102    246\n",
       "2  PaymentScreenSuccessful  3518123091307005509      1564054127    248\n",
       "3         CartScreenAppear  3518123091307005509      1564054127    248\n",
       "4  PaymentScreenSuccessful  6217807653094995999      1564055322    248\n",
       "5         CartScreenAppear  6217807653094995999      1564055323    248\n",
       "6       OffersScreenAppear  8351860793733343758      1564066242    246\n",
       "7         MainScreenAppear  5682100281902512875      1564085677    246\n",
       "8         MainScreenAppear  1850981295691852772      1564086702    247\n",
       "9         MainScreenAppear  5407636962369102641      1564112112    246"
      ]
     },
     "execution_count": 3,
     "metadata": {},
     "output_type": "execute_result"
    }
   ],
   "source": [
    "# Посмотрим на таблицу\n",
    "logs_exp.head(10)"
   ]
  },
  {
   "cell_type": "code",
   "execution_count": 4,
   "id": "35bbf91f",
   "metadata": {
    "ExecuteTime": {
     "end_time": "2023-08-25T09:17:15.509535Z",
     "start_time": "2023-08-25T09:17:14.457013Z"
    }
   },
   "outputs": [
    {
     "name": "stdout",
     "output_type": "stream",
     "text": [
      "<class 'pandas.core.frame.DataFrame'>\n",
      "RangeIndex: 244126 entries, 0 to 244125\n",
      "Data columns (total 4 columns):\n",
      " #   Column          Non-Null Count   Dtype \n",
      "---  ------          --------------   ----- \n",
      " 0   EventName       244126 non-null  object\n",
      " 1   DeviceIDHash    244126 non-null  int64 \n",
      " 2   EventTimestamp  244126 non-null  int64 \n",
      " 3   ExpId           244126 non-null  int64 \n",
      "dtypes: int64(3), object(1)\n",
      "memory usage: 7.5+ MB\n"
     ]
    }
   ],
   "source": [
    "# Посмотрим типы данных и общую информацию\n",
    "logs_exp.info()"
   ]
  },
  {
   "cell_type": "markdown",
   "id": "02f2fa21",
   "metadata": {},
   "source": [
    "# 2. Предобработка данных"
   ]
  },
  {
   "cell_type": "code",
   "execution_count": 5,
   "id": "ab23bc1a",
   "metadata": {
    "ExecuteTime": {
     "end_time": "2023-08-25T09:17:15.562844Z",
     "start_time": "2023-08-25T09:17:14.466133Z"
    }
   },
   "outputs": [
    {
     "name": "stdout",
     "output_type": "stream",
     "text": [
      "Index(['event', 'user_id', 'datetime', 'group'], dtype='object')\n",
      "\n",
      "['main_screen_appear' 'payment_screen_successful' 'cart_screen_appear'\n",
      " 'offers_screen_appear' 'tutorial']\n"
     ]
    }
   ],
   "source": [
    "# Зададим змеиный регистр и изменим названия столбцов\n",
    "new_column_names = {\n",
    "    'EventName': 'event',\n",
    "    'DeviceIDHash': 'user_id',\n",
    "    'EventTimestamp': 'datetime',\n",
    "    'ExpId': 'group'\n",
    "}\n",
    "logs_exp.rename(columns=new_column_names, inplace=True)\n",
    "\n",
    "print(logs_exp.columns)\n",
    "print()\n",
    "\n",
    "def snake_case(value):\n",
    "    result = re.sub(r'(?<!^)(?=[A-Z])', '_', value).lower()\n",
    "    return result\n",
    "\n",
    "logs_exp['event'] = logs_exp['event'].apply(snake_case)\n",
    "\n",
    "print(logs_exp['event'].unique())"
   ]
  },
  {
   "cell_type": "code",
   "execution_count": 6,
   "id": "9aa2993a",
   "metadata": {
    "ExecuteTime": {
     "end_time": "2023-08-25T09:17:15.593367Z",
     "start_time": "2023-08-25T09:17:14.906658Z"
    }
   },
   "outputs": [
    {
     "name": "stdout",
     "output_type": "stream",
     "text": [
      "<class 'pandas.core.frame.DataFrame'>\n",
      "RangeIndex: 244126 entries, 0 to 244125\n",
      "Data columns (total 5 columns):\n",
      " #   Column    Non-Null Count   Dtype         \n",
      "---  ------    --------------   -----         \n",
      " 0   event     244126 non-null  object        \n",
      " 1   user_id   244126 non-null  int64         \n",
      " 2   datetime  244126 non-null  datetime64[ns]\n",
      " 3   group     244126 non-null  int64         \n",
      " 4   date      244126 non-null  datetime64[ns]\n",
      "dtypes: datetime64[ns](2), int64(2), object(1)\n",
      "memory usage: 9.3+ MB\n",
      "None\n",
      "\n",
      "                       event              user_id            datetime  group  \\\n",
      "0         main_screen_appear  4575588528974610257 2019-07-25 04:43:36    246   \n",
      "1         main_screen_appear  7416695313311560658 2019-07-25 11:11:42    246   \n",
      "2  payment_screen_successful  3518123091307005509 2019-07-25 11:28:47    248   \n",
      "3         cart_screen_appear  3518123091307005509 2019-07-25 11:28:47    248   \n",
      "4  payment_screen_successful  6217807653094995999 2019-07-25 11:48:42    248   \n",
      "\n",
      "        date  \n",
      "0 2019-07-25  \n",
      "1 2019-07-25  \n",
      "2 2019-07-25  \n",
      "3 2019-07-25  \n",
      "4 2019-07-25  \n"
     ]
    }
   ],
   "source": [
    "# Определим функцию для преобразования unix-времени\n",
    "def unix_convert(unix_timestamp):\n",
    "    return datetime.utcfromtimestamp(unix_timestamp)\n",
    "\n",
    "# Применим её к столбцу datetime\n",
    "logs_exp['datetime'] = logs_exp['datetime'].apply(unix_convert)\n",
    "\n",
    "# Помещаем дату без времени суток в формате datetime в новый столбец date\n",
    "logs_exp['date'] = logs_exp['datetime'].dt.date\n",
    "logs_exp['date'] = pd.to_datetime(logs_exp['date'])\n",
    "\n",
    "print(logs_exp.info())\n",
    "print()\n",
    "print(logs_exp.head())"
   ]
  },
  {
   "cell_type": "code",
   "execution_count": 7,
   "id": "f45c5d9c",
   "metadata": {
    "ExecuteTime": {
     "end_time": "2023-08-25T09:17:15.593530Z",
     "start_time": "2023-08-25T09:17:15.105419Z"
    }
   },
   "outputs": [
    {
     "name": "stdout",
     "output_type": "stream",
     "text": [
      "Количество строк: 244126\n",
      "Количество столбцов: 5\n",
      "Столбцы: 'event', 'user_id', 'datetime', 'group', 'date'\n"
     ]
    }
   ],
   "source": [
    "# Проверим размерность датасета\n",
    "rows, cols = logs_exp.shape\n",
    "columns = ', '.join([f\"'{col}'\" for col in logs_exp.columns])\n",
    "\n",
    "print(f'Количество строк: {rows}')\n",
    "print(f'Количество столбцов: {cols}')\n",
    "print(f'Столбцы: {columns}')"
   ]
  },
  {
   "cell_type": "code",
   "execution_count": 8,
   "id": "2ef01ce6",
   "metadata": {
    "ExecuteTime": {
     "end_time": "2023-08-25T09:17:15.595594Z",
     "start_time": "2023-08-25T09:17:15.107637Z"
    }
   },
   "outputs": [
    {
     "data": {
      "text/plain": [
       "event       0\n",
       "user_id     0\n",
       "datetime    0\n",
       "group       0\n",
       "date        0\n",
       "dtype: int64"
      ]
     },
     "execution_count": 8,
     "metadata": {},
     "output_type": "execute_result"
    }
   ],
   "source": [
    "# Проверим пропуски\n",
    "logs_exp.isna().sum()"
   ]
  },
  {
   "cell_type": "code",
   "execution_count": 9,
   "id": "0dc660ea",
   "metadata": {
    "ExecuteTime": {
     "end_time": "2023-08-25T09:17:15.596253Z",
     "start_time": "2023-08-25T09:17:15.143714Z"
    }
   },
   "outputs": [
    {
     "data": {
      "text/plain": [
       "413"
      ]
     },
     "execution_count": 9,
     "metadata": {},
     "output_type": "execute_result"
    }
   ],
   "source": [
    "# Явные дубликаты\n",
    "logs_exp.duplicated().sum()"
   ]
  },
  {
   "cell_type": "code",
   "execution_count": 10,
   "id": "aec4902c",
   "metadata": {
    "ExecuteTime": {
     "end_time": "2023-08-25T09:17:15.596427Z",
     "start_time": "2023-08-25T09:17:15.183840Z"
    }
   },
   "outputs": [
    {
     "name": "stdout",
     "output_type": "stream",
     "text": [
      "                            event              user_id            datetime  \\\n",
      "0              main_screen_appear  4575588528974610257 2019-07-25 04:43:36   \n",
      "1              main_screen_appear  7416695313311560658 2019-07-25 11:11:42   \n",
      "2       payment_screen_successful  3518123091307005509 2019-07-25 11:28:47   \n",
      "3              cart_screen_appear  3518123091307005509 2019-07-25 11:28:47   \n",
      "4       payment_screen_successful  6217807653094995999 2019-07-25 11:48:42   \n",
      "...                           ...                  ...                 ...   \n",
      "243708         main_screen_appear  4599628364049201812 2019-08-07 21:12:25   \n",
      "243709         main_screen_appear  5849806612437486590 2019-08-07 21:13:59   \n",
      "243710         main_screen_appear  5746969938801999050 2019-08-07 21:14:43   \n",
      "243711         main_screen_appear  5746969938801999050 2019-08-07 21:14:58   \n",
      "243712       offers_screen_appear  5746969938801999050 2019-08-07 21:15:17   \n",
      "\n",
      "        group       date  \n",
      "0         246 2019-07-25  \n",
      "1         246 2019-07-25  \n",
      "2         248 2019-07-25  \n",
      "3         248 2019-07-25  \n",
      "4         248 2019-07-25  \n",
      "...       ...        ...  \n",
      "243708    247 2019-08-07  \n",
      "243709    246 2019-08-07  \n",
      "243710    246 2019-08-07  \n",
      "243711    246 2019-08-07  \n",
      "243712    246 2019-08-07  \n",
      "\n",
      "[243713 rows x 5 columns]\n"
     ]
    }
   ],
   "source": [
    "# Удалим дубликаты и восстановим индексы\n",
    "logs_exp.drop_duplicates(inplace=True)\n",
    "logs_exp.reset_index(drop=True, inplace=True)\n",
    "print(logs_exp)"
   ]
  },
  {
   "cell_type": "code",
   "execution_count": 11,
   "id": "0e4182ce",
   "metadata": {
    "ExecuteTime": {
     "end_time": "2023-08-25T09:17:15.596500Z",
     "start_time": "2023-08-25T09:17:15.229902Z"
    }
   },
   "outputs": [
    {
     "name": "stdout",
     "output_type": "stream",
     "text": [
      "Количество строк: 243713\n",
      "Количество столбцов: 5\n",
      "Столбцы: 'event', 'user_id', 'datetime', 'group', 'date'\n"
     ]
    }
   ],
   "source": [
    "# После изменений проверим размерность\n",
    "rows, cols = logs_exp.shape\n",
    "columns = ', '.join([f\"'{col}'\" for col in logs_exp.columns])\n",
    "\n",
    "print(f'Количество строк: {rows}')\n",
    "print(f'Количество столбцов: {cols}')\n",
    "print(f'Столбцы: {columns}')"
   ]
  },
  {
   "cell_type": "code",
   "execution_count": 12,
   "id": "4e3ac125",
   "metadata": {
    "ExecuteTime": {
     "end_time": "2023-08-25T09:17:15.596567Z",
     "start_time": "2023-08-25T09:17:15.243030Z"
    }
   },
   "outputs": [
    {
     "name": "stdout",
     "output_type": "stream",
     "text": [
      "['main_screen_appear' 'payment_screen_successful' 'cart_screen_appear'\n",
      " 'offers_screen_appear' 'tutorial']\n",
      "\n",
      "[246 248 247]\n"
     ]
    }
   ],
   "source": [
    "# Проверим наличие неявных дубликатов в столбце event\n",
    "print(logs_exp['event'].unique())\n",
    "print()\n",
    "# И group\n",
    "print(logs_exp['group'].unique())"
   ]
  },
  {
   "cell_type": "code",
   "execution_count": 13,
   "id": "c575b00f",
   "metadata": {
    "ExecuteTime": {
     "end_time": "2023-08-25T09:17:15.596653Z",
     "start_time": "2023-08-25T09:17:15.254951Z"
    }
   },
   "outputs": [
    {
     "data": {
      "text/plain": [
       "array([246, 248, 247])"
      ]
     },
     "execution_count": 13,
     "metadata": {},
     "output_type": "execute_result"
    }
   ],
   "source": [
    "# И group\n",
    "logs_exp['group'].unique()"
   ]
  },
  {
   "cell_type": "code",
   "execution_count": 14,
   "id": "4dfaa6f9",
   "metadata": {
    "ExecuteTime": {
     "end_time": "2023-08-25T09:17:15.596718Z",
     "start_time": "2023-08-25T09:17:15.259736Z"
    }
   },
   "outputs": [
    {
     "name": "stdout",
     "output_type": "stream",
     "text": [
      "object\n",
      "\n",
      "['A1' 'B' 'A2']\n"
     ]
    }
   ],
   "source": [
    "# Изменим значения и тип данных в столбце group\n",
    "logs_exp['group'] = logs_exp['group'].replace({\n",
    "    246: 'A1', 247: 'A2', 248: 'B'\n",
    "})\n",
    "logs_exp['group'] = logs_exp['group'].astype('object')\n",
    "\n",
    "print(logs_exp['group'].dtype)\n",
    "print()\n",
    "print(logs_exp['group'].unique())"
   ]
  },
  {
   "cell_type": "code",
   "execution_count": 15,
   "id": "4329cb93",
   "metadata": {
    "ExecuteTime": {
     "end_time": "2023-08-25T09:17:15.596798Z",
     "start_time": "2023-08-25T09:17:15.294756Z"
    }
   },
   "outputs": [
    {
     "data": {
      "text/html": [
       "<div>\n",
       "<style scoped>\n",
       "    .dataframe tbody tr th:only-of-type {\n",
       "        vertical-align: middle;\n",
       "    }\n",
       "\n",
       "    .dataframe tbody tr th {\n",
       "        vertical-align: top;\n",
       "    }\n",
       "\n",
       "    .dataframe thead th {\n",
       "        text-align: right;\n",
       "    }\n",
       "</style>\n",
       "<table border=\"1\" class=\"dataframe\">\n",
       "  <thead>\n",
       "    <tr style=\"text-align: right;\">\n",
       "      <th></th>\n",
       "      <th>user_id</th>\n",
       "    </tr>\n",
       "    <tr>\n",
       "      <th>group</th>\n",
       "      <th></th>\n",
       "    </tr>\n",
       "  </thead>\n",
       "  <tbody>\n",
       "    <tr>\n",
       "      <th>A1</th>\n",
       "      <td>2489</td>\n",
       "    </tr>\n",
       "    <tr>\n",
       "      <th>A2</th>\n",
       "      <td>2520</td>\n",
       "    </tr>\n",
       "    <tr>\n",
       "      <th>B</th>\n",
       "      <td>2542</td>\n",
       "    </tr>\n",
       "  </tbody>\n",
       "</table>\n",
       "</div>"
      ],
      "text/plain": [
       "       user_id\n",
       "group         \n",
       "A1        2489\n",
       "A2        2520\n",
       "B         2542"
      ]
     },
     "execution_count": 15,
     "metadata": {},
     "output_type": "execute_result"
    }
   ],
   "source": [
    "# Посчитаем количество уникальных пользователей в каждой группе\n",
    "logs_exp.groupby('group').agg({'user_id': 'nunique'})"
   ]
  },
  {
   "cell_type": "code",
   "execution_count": 16,
   "id": "f90bf5bb",
   "metadata": {
    "ExecuteTime": {
     "end_time": "2023-08-25T09:17:15.596861Z",
     "start_time": "2023-08-25T09:17:15.318766Z"
    }
   },
   "outputs": [
    {
     "name": "stdout",
     "output_type": "stream",
     "text": [
      "Дубликатов не найдено\n"
     ]
    }
   ],
   "source": [
    "# Проверим, нет ли пересечений между пользователями и группами\n",
    "# Создаём словарь для хранения групп каждого пользователя,\n",
    "# Где ключ — user_id, а значение — множество групп, к которым он принадлежит\n",
    "user_groups = defaultdict(set)\n",
    "\n",
    "# Заполняем словарь данными о группах каждого пользователя\n",
    "# Проходим циклом по группам, сгруппированным по user_id, и добавляем группы в множество для каждого пользователя\n",
    "for user, group in logs_exp.groupby('user_id')['group']:\n",
    "    user_groups[user].add(group.values[0])\n",
    "\n",
    "# Проверяем наличие пользователей, которые принадлежат к нескольким группам\n",
    "# Создаём словарь, где ключ — user_id, значение — список групп, к которым он принадлежит\n",
    "duplicates = {\n",
    "    user: groups for user, groups in user_groups.items() if len(groups) > 1\n",
    "}\n",
    "# Выводим список дубликатов, если они есть\n",
    "if duplicates:\n",
    "    print('Дубликаты пользователей и групп:')\n",
    "    for user, groups in duplicates.items():\n",
    "        print(f\"Пользователь {user} принадлежит к группам {', '.join(groups)}\")\n",
    "else:\n",
    "    print('Дубликатов не найдено')"
   ]
  },
  {
   "cell_type": "code",
   "execution_count": 17,
   "id": "117abc88",
   "metadata": {
    "ExecuteTime": {
     "end_time": "2023-08-25T09:17:15.596930Z",
     "start_time": "2023-08-25T09:17:15.406918Z"
    }
   },
   "outputs": [
    {
     "data": {
      "text/html": [
       "<div>\n",
       "<style scoped>\n",
       "    .dataframe tbody tr th:only-of-type {\n",
       "        vertical-align: middle;\n",
       "    }\n",
       "\n",
       "    .dataframe tbody tr th {\n",
       "        vertical-align: top;\n",
       "    }\n",
       "\n",
       "    .dataframe thead th {\n",
       "        text-align: right;\n",
       "    }\n",
       "</style>\n",
       "<table border=\"1\" class=\"dataframe\">\n",
       "  <thead>\n",
       "    <tr style=\"text-align: right;\">\n",
       "      <th></th>\n",
       "      <th>event</th>\n",
       "      <th>user_id</th>\n",
       "      <th>datetime</th>\n",
       "      <th>group</th>\n",
       "      <th>date</th>\n",
       "    </tr>\n",
       "  </thead>\n",
       "  <tbody>\n",
       "    <tr>\n",
       "      <th>0</th>\n",
       "      <td>main_screen_appear</td>\n",
       "      <td>4575588528974610257</td>\n",
       "      <td>2019-07-25 04:43:36</td>\n",
       "      <td>A1</td>\n",
       "      <td>2019-07-25</td>\n",
       "    </tr>\n",
       "    <tr>\n",
       "      <th>1</th>\n",
       "      <td>main_screen_appear</td>\n",
       "      <td>7416695313311560658</td>\n",
       "      <td>2019-07-25 11:11:42</td>\n",
       "      <td>A1</td>\n",
       "      <td>2019-07-25</td>\n",
       "    </tr>\n",
       "    <tr>\n",
       "      <th>2</th>\n",
       "      <td>payment_screen_successful</td>\n",
       "      <td>3518123091307005509</td>\n",
       "      <td>2019-07-25 11:28:47</td>\n",
       "      <td>B</td>\n",
       "      <td>2019-07-25</td>\n",
       "    </tr>\n",
       "    <tr>\n",
       "      <th>3</th>\n",
       "      <td>cart_screen_appear</td>\n",
       "      <td>3518123091307005509</td>\n",
       "      <td>2019-07-25 11:28:47</td>\n",
       "      <td>B</td>\n",
       "      <td>2019-07-25</td>\n",
       "    </tr>\n",
       "    <tr>\n",
       "      <th>4</th>\n",
       "      <td>payment_screen_successful</td>\n",
       "      <td>6217807653094995999</td>\n",
       "      <td>2019-07-25 11:48:42</td>\n",
       "      <td>B</td>\n",
       "      <td>2019-07-25</td>\n",
       "    </tr>\n",
       "    <tr>\n",
       "      <th>...</th>\n",
       "      <td>...</td>\n",
       "      <td>...</td>\n",
       "      <td>...</td>\n",
       "      <td>...</td>\n",
       "      <td>...</td>\n",
       "    </tr>\n",
       "    <tr>\n",
       "      <th>243708</th>\n",
       "      <td>main_screen_appear</td>\n",
       "      <td>4599628364049201812</td>\n",
       "      <td>2019-08-07 21:12:25</td>\n",
       "      <td>A2</td>\n",
       "      <td>2019-08-07</td>\n",
       "    </tr>\n",
       "    <tr>\n",
       "      <th>243709</th>\n",
       "      <td>main_screen_appear</td>\n",
       "      <td>5849806612437486590</td>\n",
       "      <td>2019-08-07 21:13:59</td>\n",
       "      <td>A1</td>\n",
       "      <td>2019-08-07</td>\n",
       "    </tr>\n",
       "    <tr>\n",
       "      <th>243710</th>\n",
       "      <td>main_screen_appear</td>\n",
       "      <td>5746969938801999050</td>\n",
       "      <td>2019-08-07 21:14:43</td>\n",
       "      <td>A1</td>\n",
       "      <td>2019-08-07</td>\n",
       "    </tr>\n",
       "    <tr>\n",
       "      <th>243711</th>\n",
       "      <td>main_screen_appear</td>\n",
       "      <td>5746969938801999050</td>\n",
       "      <td>2019-08-07 21:14:58</td>\n",
       "      <td>A1</td>\n",
       "      <td>2019-08-07</td>\n",
       "    </tr>\n",
       "    <tr>\n",
       "      <th>243712</th>\n",
       "      <td>offers_screen_appear</td>\n",
       "      <td>5746969938801999050</td>\n",
       "      <td>2019-08-07 21:15:17</td>\n",
       "      <td>A1</td>\n",
       "      <td>2019-08-07</td>\n",
       "    </tr>\n",
       "  </tbody>\n",
       "</table>\n",
       "<p>243713 rows × 5 columns</p>\n",
       "</div>"
      ],
      "text/plain": [
       "                            event              user_id            datetime  \\\n",
       "0              main_screen_appear  4575588528974610257 2019-07-25 04:43:36   \n",
       "1              main_screen_appear  7416695313311560658 2019-07-25 11:11:42   \n",
       "2       payment_screen_successful  3518123091307005509 2019-07-25 11:28:47   \n",
       "3              cart_screen_appear  3518123091307005509 2019-07-25 11:28:47   \n",
       "4       payment_screen_successful  6217807653094995999 2019-07-25 11:48:42   \n",
       "...                           ...                  ...                 ...   \n",
       "243708         main_screen_appear  4599628364049201812 2019-08-07 21:12:25   \n",
       "243709         main_screen_appear  5849806612437486590 2019-08-07 21:13:59   \n",
       "243710         main_screen_appear  5746969938801999050 2019-08-07 21:14:43   \n",
       "243711         main_screen_appear  5746969938801999050 2019-08-07 21:14:58   \n",
       "243712       offers_screen_appear  5746969938801999050 2019-08-07 21:15:17   \n",
       "\n",
       "       group       date  \n",
       "0         A1 2019-07-25  \n",
       "1         A1 2019-07-25  \n",
       "2          B 2019-07-25  \n",
       "3          B 2019-07-25  \n",
       "4          B 2019-07-25  \n",
       "...      ...        ...  \n",
       "243708    A2 2019-08-07  \n",
       "243709    A1 2019-08-07  \n",
       "243710    A1 2019-08-07  \n",
       "243711    A1 2019-08-07  \n",
       "243712    A1 2019-08-07  \n",
       "\n",
       "[243713 rows x 5 columns]"
      ]
     },
     "execution_count": 17,
     "metadata": {},
     "output_type": "execute_result"
    }
   ],
   "source": [
    "# Переименуем датафрейм\n",
    "df = logs_exp\n",
    "df"
   ]
  },
  {
   "cell_type": "markdown",
   "id": "4600c516",
   "metadata": {},
   "source": [
    "<div class=\"alert alert-success\">\n",
    "\n",
    "**✔️ Комментарий ревьюера ✔️**\n",
    "   \n",
    "   Очень хорошо, что не забываешь проверять данные на наличие пропусков и дубликатов.  Молодец, что приводишь даты к нужному формату - предобработка проведена отлично.\n",
    "\n",
    "</div>"
   ]
  },
  {
   "cell_type": "markdown",
   "id": "af5887bf",
   "metadata": {},
   "source": [
    "# 3. Изучение и проверка данных"
   ]
  },
  {
   "cell_type": "code",
   "execution_count": 18,
   "id": "19edd6ec",
   "metadata": {
    "ExecuteTime": {
     "end_time": "2023-08-25T09:17:15.597003Z",
     "start_time": "2023-08-25T09:17:15.410486Z"
    }
   },
   "outputs": [
    {
     "name": "stdout",
     "output_type": "stream",
     "text": [
      "Общее количество событий: 243713\n"
     ]
    }
   ],
   "source": [
    "# Сколько всего событий\n",
    "print('Общее количество событий:', df.shape[0])"
   ]
  },
  {
   "cell_type": "code",
   "execution_count": 19,
   "id": "d829e50e",
   "metadata": {
    "ExecuteTime": {
     "end_time": "2023-08-25T09:17:15.603156Z",
     "start_time": "2023-08-25T09:17:15.413320Z"
    }
   },
   "outputs": [
    {
     "name": "stdout",
     "output_type": "stream",
     "text": [
      "Общее количество пользователей: 7551\n"
     ]
    }
   ],
   "source": [
    "# Сколько всего пользователей\n",
    "print('Общее количество пользователей:', df['user_id'].nunique())"
   ]
  },
  {
   "cell_type": "code",
   "execution_count": 20,
   "id": "eb59bda4",
   "metadata": {
    "ExecuteTime": {
     "end_time": "2023-08-25T09:17:15.603373Z",
     "start_time": "2023-08-25T09:17:15.418087Z"
    }
   },
   "outputs": [
    {
     "name": "stdout",
     "output_type": "stream",
     "text": [
      "Среднее количество событий на пользователя: 32.28\n"
     ]
    }
   ],
   "source": [
    "# Сколько в среднем событий приходится на пользователя\n",
    "print(\n",
    "    'Среднее количество событий на пользователя:',\n",
    "    round(\n",
    "        df.shape[0] / df['user_id'].nunique(),\n",
    "        2\n",
    "    )\n",
    ")"
   ]
  },
  {
   "cell_type": "code",
   "execution_count": 21,
   "id": "19b25d65",
   "metadata": {
    "ExecuteTime": {
     "end_time": "2023-08-25T09:17:15.603477Z",
     "start_time": "2023-08-25T09:17:15.423089Z"
    }
   },
   "outputs": [
    {
     "name": "stdout",
     "output_type": "stream",
     "text": [
      "Минимальная дата: 2019-07-25\n",
      "Максимальная дата: 2019-08-07\n"
     ]
    }
   ],
   "source": [
    "# Данными за какой период мы располагаем\n",
    "print('Минимальная дата:', df['date'].min().date())\n",
    "print('Максимальная дата:', df['date'].max().date())"
   ]
  },
  {
   "cell_type": "code",
   "execution_count": 22,
   "id": "4729117c",
   "metadata": {
    "ExecuteTime": {
     "end_time": "2023-08-25T09:17:15.711970Z",
     "start_time": "2023-08-25T09:17:15.431298Z"
    }
   },
   "outputs": [
    {
     "data": {
      "image/png": "[encoded data removed]",
      "text/plain": [
       "<Figure size 720x432 with 1 Axes>"
      ]
     },
     "metadata": {
      "needs_background": "light"
     },
     "output_type": "display_data"
    }
   ],
   "source": [
    "# Посмотрим, как меняется количество данных\n",
    "# Построим столбчатую диаграмму которая отобразит количество событий в зависимости от времени в разрезе групп\n",
    "grouped = (\n",
    "    df.groupby(['date', 'group'])\n",
    "    .agg({'event': 'count'})\n",
    "    .reset_index()\n",
    ")\n",
    "\n",
    "# Создадим уникальные идентификаторы для каждой группы\n",
    "unique_groups = grouped['group'].unique()\n",
    "group_ids = np.arange(len(unique_groups))\n",
    "# И задаём гирину столбцов\n",
    "bar_width = 0.3\n",
    "\n",
    "# Строим столбчатую диаграмму\n",
    "plt.figure(figsize=(10, 6))\n",
    "\n",
    "# Проходим по группам и строим столбцы для каждой\n",
    "for i, group in enumerate(unique_groups):\n",
    "    # Фильтруем данные для текущей группы\n",
    "    group_data = grouped[grouped['group'] == group]\n",
    "    # Создаем массив значений на оси X\n",
    "    x_values = np.arange(len(group_data))\n",
    "    # Построение столбцов\n",
    "    plt.bar(\n",
    "        # Смещение по оси X для избежания накладывания столбцов\n",
    "        x_values + bar_width * (i - len(unique_groups) // 2),\n",
    "        # Высота столбца — количество событий\n",
    "        group_data['event'],\n",
    "        # Метка для легенды и ширина столбца\n",
    "        label=group, width=bar_width\n",
    "    )\n",
    "# Устанавливаем отметки на оси X для каждой даты\n",
    "plt.xticks(\n",
    "    x_values, group_data['date'].dt.strftime('%Y-%m-%d'),\n",
    "    rotation=90\n",
    ")\n",
    "plt.xlabel('\\nДата')\n",
    "plt.ylabel('Количество событий')\n",
    "plt.title('Количество событий в зависимости от времени в разрезе групп')\n",
    "plt.legend(unique_groups)\n",
    "# Распределение элементов графика\n",
    "plt.tight_layout()\n",
    "\n",
    "plt.show()"
   ]
  },
  {
   "cell_type": "markdown",
   "id": "6afae2a0",
   "metadata": {},
   "source": [
    "Будем считать, что активность начинается с 2019-08-01. С этого момента заметно начало периода наибольшей активности пользователей всех групп.\n",
    "\n",
    "Посмотрим в разбивке по времени суток."
   ]
  },
  {
   "cell_type": "code",
   "execution_count": 23,
   "id": "4810d4ec",
   "metadata": {
    "ExecuteTime": {
     "end_time": "2023-08-25T09:17:16.277695Z",
     "start_time": "2023-08-25T09:17:15.642328Z"
    }
   },
   "outputs": [
    {
     "data": {
      "image/png": "[encoded data removed]",
      "text/plain": [
       "<Figure size 864x576 with 1 Axes>"
      ]
     },
     "metadata": {
      "needs_background": "light"
     },
     "output_type": "display_data"
    }
   ],
   "source": [
    "# Создаем новый столбец с информацией о часах\n",
    "df['hour'] = df['datetime'].dt.hour\n",
    "\n",
    "# Группируем данные по группе, часу и событию, считая количество событий\n",
    "grouped = (\n",
    "    df.groupby(['group', 'hour', 'event'])\n",
    "    .size()\n",
    "    .reset_index(name='event_count')\n",
    ")\n",
    "# Получаем уникальные идентификаторы для каждой группы\n",
    "unique_groups = grouped['group'].unique()\n",
    "group_ids = np.arange(len(unique_groups))\n",
    "\n",
    "# Задаем ширину столбцов и создаем фигуру для графика\n",
    "bar_width = 0.3\n",
    "plt.figure(figsize=(12, 8))\n",
    "\n",
    "# Проходим по группам и для каждой строим столбцы\n",
    "for i, group in enumerate(unique_groups):\n",
    "    # Фильтруем данные\n",
    "    group_data = grouped[grouped['group'] == group]\n",
    "    # Создаем массив значений на оси X\n",
    "    x_values = group_data['hour']\n",
    "    # Построение столбцов на графике\n",
    "    plt.bar(\n",
    "        # Смещение по оси X для избежания накладывания столбцов\n",
    "        x_values + bar_width * (i - len(unique_groups) // 2),\n",
    "        # Высота столбца — количество событий\n",
    "        group_data['event_count'],\n",
    "        label=group, width=bar_width\n",
    "    )\n",
    "# Устанавливаем отметки на оси X для каждого часа\n",
    "plt.xticks(range(24))\n",
    "plt.title('Количество событий в зависимости от времени и группы')\n",
    "plt.xlabel('\\nЧас')\n",
    "plt.ylabel('Количество событий')\n",
    "plt.legend(unique_groups)\n",
    "# Подгоняем расположение элементов графика\n",
    "plt.tight_layout()\n",
    "\n",
    "plt.show()"
   ]
  },
  {
   "cell_type": "markdown",
   "id": "d78c4f25",
   "metadata": {},
   "source": [
    "Основной период активности приходится на период с 8:00 до 16:00. Достаточно неожиданное распределение времени событий."
   ]
  },
  {
   "cell_type": "markdown",
   "id": "01b2ab22",
   "metadata": {},
   "source": [
    "### Много ли событий и пользователей мы потеряем в результате фильтрации по дате"
   ]
  },
  {
   "cell_type": "code",
   "execution_count": 24,
   "id": "904f297e",
   "metadata": {
    "ExecuteTime": {
     "end_time": "2023-08-25T09:17:16.373623Z",
     "start_time": "2023-08-25T09:17:16.281703Z"
    }
   },
   "outputs": [
    {
     "name": "stdout",
     "output_type": "stream",
     "text": [
      "Количество событий до фильтрации:\n",
      " 243713\n",
      "Количество событий после фильтрации:\n",
      " 240887\n",
      "Доля потерь событий в результате фильтрации:\n",
      " 1.16%\n",
      "Количество пользователей до фильтрации:\n",
      " 7551\n",
      "Количество пользователей после фильтрации:\n",
      " 7534\n",
      "Доля потерь пользователей в результате фильтрации:\n",
      " 0.23%\n"
     ]
    }
   ],
   "source": [
    "# Создаём копию оригинального датафрейма\n",
    "df_original = df.copy()\n",
    "\n",
    "# Задаём момент фильтрации\n",
    "moment = pd.to_datetime('2019-08-01').date()\n",
    "\n",
    "# Данные о событиях и пользователях до фильтрации\n",
    "events_before = df_original['event'].count()\n",
    "users_before = df_original['user_id'].nunique()\n",
    "\n",
    "# Отфильтровываем данные\n",
    "df = df[df['datetime'].dt.date >= moment]\n",
    "\n",
    "# Данные о событиях и пользователях после фильтрации\n",
    "events_after = df['event'].count()\n",
    "users_after = df['user_id'].nunique()\n",
    "\n",
    "# Рассчитываем доли потерь в процентах для событий и пользователей\n",
    "event_loss = (events_before - events_after) / events_before * 100\n",
    "user_loss = (users_before - users_after) / users_before * 100\n",
    "\n",
    "print(f'Количество событий до фильтрации:\\n {events_before}')\n",
    "print(f'Количество событий после фильтрации:\\n {events_after}')\n",
    "print(f'Доля потерь событий в результате фильтрации:\\n {event_loss:.2f}%')\n",
    "print(f'Количество пользователей до фильтрации:\\n {users_before}')\n",
    "print(f'Количество пользователей после фильтрации:\\n {users_after}')\n",
    "print(f'Доля потерь пользователей в результате фильтрации:\\n {user_loss:.2f}%')"
   ]
  },
  {
   "cell_type": "markdown",
   "id": "15729e0a",
   "metadata": {},
   "source": [
    "Такие потери данных выглядят приемлемо и по событиям, и по пользователям."
   ]
  },
  {
   "cell_type": "code",
   "execution_count": 25,
   "id": "72c95c33",
   "metadata": {
    "ExecuteTime": {
     "end_time": "2023-08-25T09:17:16.385963Z",
     "start_time": "2023-08-25T09:17:16.381609Z"
    }
   },
   "outputs": [
    {
     "name": "stdout",
     "output_type": "stream",
     "text": [
      "Пользователи из всех групп присутствуют в данных.\n"
     ]
    }
   ],
   "source": [
    "# Проверим, что у нас есть пользователи из всех трёх групп\n",
    "missing_groups = (\n",
    "        set(['A1', 'A2', 'B']) - set(df['group'].unique())\n",
    ")\n",
    "\n",
    "if len(missing_groups) > 0:\n",
    "    print(\n",
    "        'Пользователи из следующих групп отсутствуют в данных:',\n",
    "        missing_groups)\n",
    "else:\n",
    "    print('Пользователи из всех групп присутствуют в данных.')"
   ]
  },
  {
   "cell_type": "markdown",
   "id": "cf575bdc",
   "metadata": {},
   "source": [
    "# 4. Изучение воронки событий"
   ]
  },
  {
   "cell_type": "code",
   "execution_count": 26,
   "id": "b5777c94",
   "metadata": {
    "ExecuteTime": {
     "end_time": "2023-08-25T09:17:16.435276Z",
     "start_time": "2023-08-25T09:17:16.405900Z"
    }
   },
   "outputs": [
    {
     "data": {
      "text/plain": [
       "main_screen_appear           117328\n",
       "offers_screen_appear          46333\n",
       "cart_screen_appear            42303\n",
       "payment_screen_successful     33918\n",
       "tutorial                       1005\n",
       "Name: event, dtype: int64"
      ]
     },
     "execution_count": 26,
     "metadata": {},
     "output_type": "execute_result"
    }
   ],
   "source": [
    "# Посмотрим, какие события есть в логах и как часто они встречаются\n",
    "df['event'].value_counts().sort_values(ascending=False)"
   ]
  },
  {
   "cell_type": "markdown",
   "id": "f3939c9d",
   "metadata": {},
   "source": [
    "Как мы видим, самое частое событие — main_screen_appear. Посмотрим на данные в разрезе по долям."
   ]
  },
  {
   "cell_type": "code",
   "execution_count": 27,
   "id": "4bf8a41a",
   "metadata": {
    "ExecuteTime": {
     "end_time": "2023-08-25T09:17:16.435995Z",
     "start_time": "2023-08-25T09:17:16.425152Z"
    }
   },
   "outputs": [
    {
     "data": {
      "text/plain": [
       "main_screen_appear           0.487067\n",
       "offers_screen_appear         0.192343\n",
       "cart_screen_appear           0.175613\n",
       "payment_screen_successful    0.140805\n",
       "tutorial                     0.004172\n",
       "Name: event, dtype: float64"
      ]
     },
     "execution_count": 27,
     "metadata": {},
     "output_type": "execute_result"
    }
   ],
   "source": [
    "df['event'].value_counts(normalize=True).sort_values(ascending=False)"
   ]
  },
  {
   "cell_type": "markdown",
   "id": "ae021f6c",
   "metadata": {},
   "source": [
    "На события типа main_screen_appear приходится практически половина всех событий. Затем относительно схожими долями идут offers_screen_appear, cart_screen_appear и payment_screen_successful. Самая небольшая доля у tutorial — меньше 0.5%.\n",
    "\n",
    "Посмотрим, сколько пользователей совершали каждое из событий."
   ]
  },
  {
   "cell_type": "code",
   "execution_count": 28,
   "id": "8cbf7ca1",
   "metadata": {
    "ExecuteTime": {
     "end_time": "2023-08-25T09:17:16.474227Z",
     "start_time": "2023-08-25T09:17:16.427374Z"
    }
   },
   "outputs": [
    {
     "name": "stdout",
     "output_type": "stream",
     "text": [
      "Сколько пользователей совершали каждое из событий:\n",
      "                           user_count\n",
      "event                                \n",
      "main_screen_appear               7419\n",
      "offers_screen_appear             4593\n",
      "cart_screen_appear               3734\n",
      "payment_screen_successful        3539\n",
      "tutorial                          840\n",
      "\n",
      "Доля пользователей, которые хоть раз совершали событие\n",
      "                           proportion\n",
      "event                                \n",
      "main_screen_appear           0.984736\n",
      "offers_screen_appear         0.609636\n",
      "cart_screen_appear           0.495620\n",
      "payment_screen_successful    0.469737\n",
      "tutorial                     0.111495\n"
     ]
    }
   ],
   "source": [
    "# Группируем данные по событию, подсчитываем уникальных пользователей и сортируем\n",
    "users_by_event = (\n",
    "    df.groupby('event')\n",
    "    .agg({'user_id': 'nunique'})\n",
    "    .sort_values(by='user_id', ascending=False)\n",
    ")\n",
    "# Переименовываем столбец\n",
    "users_by_event.rename(\n",
    "    columns={'user_id': 'user_count'},\n",
    "    inplace=True\n",
    ")\n",
    "print('Сколько пользователей совершали каждое из событий:')\n",
    "print(users_by_event)\n",
    "print()\n",
    "\n",
    "# Считаем общее число пользователей, совершивших хотя бы одно событие\n",
    "total_users_events = df['user_id'].nunique()\n",
    "\n",
    "# И долю пользователей для каждого события\n",
    "users_by_event_proportions = users_by_event / total_users_events\n",
    "users_by_event_proportions.rename(\n",
    "    columns={'user_count': 'proportion'}, inplace=True\n",
    ")\n",
    "print('Доля пользователей, которые хоть раз совершали событие')\n",
    "print(users_by_event_proportions)"
   ]
  },
  {
   "cell_type": "markdown",
   "id": "17782d41",
   "metadata": {},
   "source": [
    "### В каком порядке происходят события"
   ]
  },
  {
   "cell_type": "markdown",
   "id": "669f5d74",
   "metadata": {},
   "source": [
    "Исходя из описания, имеющихся данных и накопленных наблюдений, представляется, что цепочка событий и их описание выглядят примерно так:\n",
    "\n",
    "1. **tutorial**\n",
    "Похоже на обучающее руководство при регистрации и/или авторизации.\n",
    "\n",
    "2. **main_screen_appear**\n",
    "Вероятно, это событие, когда пользователь попадает на главный экран приложения.\n",
    "\n",
    "3. **offers_screen_appear**\n",
    "Экран с товарами, которые можно купить. По всей видимости, это следующий шаг пользователя, после открытия приложения и попадания на главный экран.\n",
    "\n",
    "4. **cart_screen_appear**\n",
    "Затем пользователь может добавить товары в корзину.\n",
    "\n",
    "5. **payment_screen_successful**\n",
    "Последним этапом может быть успешная покупка товара."
   ]
  },
  {
   "cell_type": "code",
   "execution_count": 29,
   "id": "1bb5df57",
   "metadata": {
    "ExecuteTime": {
     "end_time": "2023-08-25T09:17:16.482855Z",
     "start_time": "2023-08-25T09:17:16.472696Z"
    }
   },
   "outputs": [
    {
     "name": "stdout",
     "output_type": "stream",
     "text": [
      "Отношение числа пользователей от tutorial к main_screen_appear:\n",
      "883.21%\n",
      "\n",
      "Отношение числа пользователей от main_screen_appear к offers_screen_appear:\n",
      "61.91%\n",
      "\n",
      "Отношение числа пользователей от offers_screen_appear к cart_screen_appear:\n",
      "81.30%\n",
      "\n",
      "Отношение числа пользователей от cart_screen_appear к payment_screen_successful:\n",
      "94.78%\n"
     ]
    }
   ],
   "source": [
    "# Выясним, какая доля пользователей проходит на следующий шаг воронки\n",
    "conversion_to_main_screen = (\n",
    "        users_by_event.loc['main_screen_appear'] /\n",
    "        users_by_event.loc['tutorial']\n",
    ")\n",
    "conversion_to_offers_screen = (\n",
    "        users_by_event.loc['offers_screen_appear'] /\n",
    "        users_by_event.loc['main_screen_appear']\n",
    ")\n",
    "conversion_to_cart_screen = (\n",
    "        users_by_event.loc['cart_screen_appear'] /\n",
    "        users_by_event.loc['offers_screen_appear']\n",
    ")\n",
    "conversion_to_payment_screen = (\n",
    "        users_by_event.loc['payment_screen_successful'] /\n",
    "        users_by_event.loc['cart_screen_appear']\n",
    ")\n",
    "\n",
    "# При выводе на экран с помощью .values[0] извлекаем числовое значение из объекта Series\n",
    "print(\n",
    "    'Отношение числа пользователей от tutorial к main_screen_appear:\\n{:.2%}\\n'\n",
    "    .format(conversion_to_main_screen.values[0])\n",
    ")\n",
    "print(\n",
    "    'Отношение числа пользователей от main_screen_appear к offers_screen_appear:\\n{:.2%}\\n'\n",
    "    .format(conversion_to_offers_screen.values[0])\n",
    ")\n",
    "print(\n",
    "    'Отношение числа пользователей от offers_screen_appear к cart_screen_appear:\\n{:.2%}\\n'\n",
    "    .format(conversion_to_cart_screen.values[0])\n",
    ")\n",
    "print(\n",
    "    'Отношение числа пользователей от cart_screen_appear к payment_screen_successful:\\n{:.2%}'\n",
    "    .format(conversion_to_payment_screen.values[0])\n",
    ")"
   ]
  },
  {
   "cell_type": "markdown",
   "id": "53ef4ee8",
   "metadata": {},
   "source": [
    "Как видим, больше всего пользователей мы теряем на шаге от main_screen_appear к offers_screen_appear. Значит, пользователи попадая на главный экран, почему-то часто не хотят переходить к экрану с товарами."
   ]
  },
  {
   "cell_type": "code",
   "execution_count": 30,
   "id": "d9bf0490",
   "metadata": {
    "ExecuteTime": {
     "end_time": "2023-08-25T09:17:16.483078Z",
     "start_time": "2023-08-25T09:17:16.476525Z"
    }
   },
   "outputs": [
    {
     "name": "stdout",
     "output_type": "stream",
     "text": [
      "Доля пользователей от main_screen_appear до payment_screen_successful: 47.70%\n"
     ]
    }
   ],
   "source": [
    "# Выясним, какая доля пользователей доходит от первого события до оплаты\n",
    "conversion_to_payment = (\n",
    "        users_by_event.loc['payment_screen_successful'] /\n",
    "        users_by_event.loc['main_screen_appear']\n",
    ")\n",
    "print(\n",
    "    'Доля пользователей от main_screen_appear до payment_screen_successful: {:.2%}'\n",
    "    .format(conversion_to_payment.values[0])\n",
    ")"
   ]
  },
  {
   "cell_type": "markdown",
   "id": "65c37d9a",
   "metadata": {},
   "source": [
    "Мы не стали отталкиваться от tutorial как первого шага, потому что по числу пользователей, совершивших это событие, нельзя назвать его ни обязательным при использовании приложения, ни в достаточной степени используемым."
   ]
  },
  {
   "cell_type": "markdown",
   "id": "e630f570",
   "metadata": {},
   "source": [
    "# 5. Изучение результатов эксперимента"
   ]
  },
  {
   "cell_type": "markdown",
   "id": "88a39aa8",
   "metadata": {},
   "source": [
    "### Сколько пользователей в каждой экспериментальной группе"
   ]
  },
  {
   "cell_type": "code",
   "execution_count": 31,
   "id": "43125686",
   "metadata": {
    "ExecuteTime": {
     "end_time": "2023-08-25T09:17:16.491743Z",
     "start_time": "2023-08-25T09:17:16.489199Z"
    }
   },
   "outputs": [
    {
     "data": {
      "text/plain": [
       "B     84563\n",
       "A1    79302\n",
       "A2    77022\n",
       "Name: group, dtype: int64"
      ]
     },
     "execution_count": 31,
     "metadata": {},
     "output_type": "execute_result"
    }
   ],
   "source": [
    "df['group'].value_counts()"
   ]
  },
  {
   "cell_type": "markdown",
   "id": "0980d0c7",
   "metadata": {},
   "source": [
    "Группа B имеет наибольшее количество пользователей, однако в целом выборка выглядит уравновешенной и корректной."
   ]
  },
  {
   "cell_type": "markdown",
   "id": "2169cbce",
   "metadata": {},
   "source": [
    "### Самое популярное событие"
   ]
  },
  {
   "cell_type": "code",
   "execution_count": 32,
   "id": "99bcbbb8",
   "metadata": {
    "ExecuteTime": {
     "end_time": "2023-08-25T09:17:16.558721Z",
     "start_time": "2023-08-25T09:17:16.507048Z"
    }
   },
   "outputs": [
    {
     "name": "stdout",
     "output_type": "stream",
     "text": [
      "main_screen_appear\n"
     ]
    }
   ],
   "source": [
    "most_popular_event = df['event'].value_counts().idxmax()\n",
    "print(most_popular_event)"
   ]
  },
  {
   "cell_type": "markdown",
   "id": "2469bd68",
   "metadata": {},
   "source": [
    "Чаще всего пользователи взаимодействовали со стартовой страницей приложения."
   ]
  },
  {
   "cell_type": "markdown",
   "id": "9048258f",
   "metadata": {},
   "source": [
    "### Количество и доли пользователей в разрезе событий и групп"
   ]
  },
  {
   "cell_type": "code",
   "execution_count": 33,
   "id": "c601dea4",
   "metadata": {
    "ExecuteTime": {
     "end_time": "2023-08-25T09:17:16.559279Z",
     "start_time": "2023-08-25T09:17:16.513201Z"
    }
   },
   "outputs": [],
   "source": [
    "# Объявим функцию для подсчёта данных о событиях\n",
    "def calculate_event_data(df):\n",
    "    # Получаем уникальные значения в столбце group\n",
    "    unique_groups = df['group'].unique()\n",
    "    # Создаём словарь для сохранения данных\n",
    "    event_data_dict = {}\n",
    "\n",
    "    # Проходим по каждой группе\n",
    "    for group in unique_groups:\n",
    "        # Отфильтровываем данные по группе\n",
    "        group_data = df[df['group'] == group]\n",
    "        # Создаём словарь\n",
    "        group_dict = {}\n",
    "        # Выводим название группы\n",
    "        print(f'Группа {group}')\n",
    "        # Находим уникальные события\n",
    "        unique_events = group_data['event'].unique()\n",
    "        # Проходим по каждому событию\n",
    "        for event in unique_events:\n",
    "            # Фильтруем данные по событию\n",
    "            event_data = group_data[group_data['event'] == event]\n",
    "            # Подсчитываем число уникальных пользователей, совершивших событие\n",
    "            event_users = event_data['user_id'].nunique()\n",
    "            # Количество уникальных пользователей в группе\n",
    "            total_users = group_data['user_id'].nunique()\n",
    "            # Рассчитываем долю пользователей, совершивших событие\n",
    "            proportion = event_users / total_users\n",
    "            # Записываем данные в словарь\n",
    "            group_dict[event] = {\n",
    "                'event_users': event_users,\n",
    "                'total_users': total_users,\n",
    "                'proportion': proportion\n",
    "            }\n",
    "            # Выводим данные по событию\n",
    "            print(f'Событие {event}')\n",
    "            print(f'    Группа: {group}')\n",
    "            print(f'    Число пользователей, совершивших событие: {event_users}')\n",
    "            print(f'    Общее число пользователей в группе: {total_users}')\n",
    "            print(f'    Доля пользователей, совершивших событие: {proportion:.2f}\\n')\n",
    "\n",
    "        # Сохраняем словарь группы в общий словарь\n",
    "        event_data_dict[group] = group_dict\n",
    "    # Возвращаем словарь\n",
    "    return event_data_dict"
   ]
  },
  {
   "cell_type": "code",
   "execution_count": 34,
   "id": "fee0db37",
   "metadata": {
    "ExecuteTime": {
     "end_time": "2023-08-25T09:17:16.690472Z",
     "start_time": "2023-08-25T09:17:16.523788Z"
    }
   },
   "outputs": [
    {
     "name": "stdout",
     "output_type": "stream",
     "text": [
      "Группа A1\n",
      "Событие tutorial\n",
      "    Группа: A1\n",
      "    Число пользователей, совершивших событие: 278\n",
      "    Общее число пользователей в группе: 2484\n",
      "    Доля пользователей, совершивших событие: 0.11\n",
      "\n",
      "Событие main_screen_appear\n",
      "    Группа: A1\n",
      "    Число пользователей, совершивших событие: 2450\n",
      "    Общее число пользователей в группе: 2484\n",
      "    Доля пользователей, совершивших событие: 0.99\n",
      "\n",
      "Событие offers_screen_appear\n",
      "    Группа: A1\n",
      "    Число пользователей, совершивших событие: 1542\n",
      "    Общее число пользователей в группе: 2484\n",
      "    Доля пользователей, совершивших событие: 0.62\n",
      "\n",
      "Событие payment_screen_successful\n",
      "    Группа: A1\n",
      "    Число пользователей, совершивших событие: 1200\n",
      "    Общее число пользователей в группе: 2484\n",
      "    Доля пользователей, совершивших событие: 0.48\n",
      "\n",
      "Событие cart_screen_appear\n",
      "    Группа: A1\n",
      "    Число пользователей, совершивших событие: 1266\n",
      "    Общее число пользователей в группе: 2484\n",
      "    Доля пользователей, совершивших событие: 0.51\n",
      "\n",
      "Группа A2\n",
      "Событие main_screen_appear\n",
      "    Группа: A2\n",
      "    Число пользователей, совершивших событие: 2476\n",
      "    Общее число пользователей в группе: 2513\n",
      "    Доля пользователей, совершивших событие: 0.99\n",
      "\n",
      "Событие offers_screen_appear\n",
      "    Группа: A2\n",
      "    Число пользователей, совершивших событие: 1520\n",
      "    Общее число пользователей в группе: 2513\n",
      "    Доля пользователей, совершивших событие: 0.60\n",
      "\n",
      "Событие payment_screen_successful\n",
      "    Группа: A2\n",
      "    Число пользователей, совершивших событие: 1158\n",
      "    Общее число пользователей в группе: 2513\n",
      "    Доля пользователей, совершивших событие: 0.46\n",
      "\n",
      "Событие cart_screen_appear\n",
      "    Группа: A2\n",
      "    Число пользователей, совершивших событие: 1238\n",
      "    Общее число пользователей в группе: 2513\n",
      "    Доля пользователей, совершивших событие: 0.49\n",
      "\n",
      "Событие tutorial\n",
      "    Группа: A2\n",
      "    Число пользователей, совершивших событие: 283\n",
      "    Общее число пользователей в группе: 2513\n",
      "    Доля пользователей, совершивших событие: 0.11\n",
      "\n",
      "Группа B\n",
      "Событие main_screen_appear\n",
      "    Группа: B\n",
      "    Число пользователей, совершивших событие: 2493\n",
      "    Общее число пользователей в группе: 2537\n",
      "    Доля пользователей, совершивших событие: 0.98\n",
      "\n",
      "Событие cart_screen_appear\n",
      "    Группа: B\n",
      "    Число пользователей, совершивших событие: 1230\n",
      "    Общее число пользователей в группе: 2537\n",
      "    Доля пользователей, совершивших событие: 0.48\n",
      "\n",
      "Событие payment_screen_successful\n",
      "    Группа: B\n",
      "    Число пользователей, совершивших событие: 1181\n",
      "    Общее число пользователей в группе: 2537\n",
      "    Доля пользователей, совершивших событие: 0.47\n",
      "\n",
      "Событие offers_screen_appear\n",
      "    Группа: B\n",
      "    Число пользователей, совершивших событие: 1531\n",
      "    Общее число пользователей в группе: 2537\n",
      "    Доля пользователей, совершивших событие: 0.60\n",
      "\n",
      "Событие tutorial\n",
      "    Группа: B\n",
      "    Число пользователей, совершивших событие: 279\n",
      "    Общее число пользователей в группе: 2537\n",
      "    Доля пользователей, совершивших событие: 0.11\n",
      "\n"
     ]
    }
   ],
   "source": [
    "event_data_dict = calculate_event_data(df)"
   ]
  },
  {
   "cell_type": "code",
   "execution_count": 35,
   "id": "7b4821d6",
   "metadata": {
    "ExecuteTime": {
     "end_time": "2023-08-25T09:17:16.701241Z",
     "start_time": "2023-08-25T09:17:16.691908Z"
    }
   },
   "outputs": [
    {
     "data": {
      "text/plain": [
       "{'A1': {'tutorial': {'event_users': 278,\n",
       "   'total_users': 2484,\n",
       "   'proportion': 0.11191626409017713},\n",
       "  'main_screen_appear': {'event_users': 2450,\n",
       "   'total_users': 2484,\n",
       "   'proportion': 0.9863123993558777},\n",
       "  'offers_screen_appear': {'event_users': 1542,\n",
       "   'total_users': 2484,\n",
       "   'proportion': 0.6207729468599034},\n",
       "  'payment_screen_successful': {'event_users': 1200,\n",
       "   'total_users': 2484,\n",
       "   'proportion': 0.4830917874396135},\n",
       "  'cart_screen_appear': {'event_users': 1266,\n",
       "   'total_users': 2484,\n",
       "   'proportion': 0.5096618357487923}},\n",
       " 'A2': {'main_screen_appear': {'event_users': 2476,\n",
       "   'total_users': 2513,\n",
       "   'proportion': 0.9852765618782332},\n",
       "  'offers_screen_appear': {'event_users': 1520,\n",
       "   'total_users': 2513,\n",
       "   'proportion': 0.6048547552725826},\n",
       "  'payment_screen_successful': {'event_users': 1158,\n",
       "   'total_users': 2513,\n",
       "   'proportion': 0.46080382013529647},\n",
       "  'cart_screen_appear': {'event_users': 1238,\n",
       "   'total_users': 2513,\n",
       "   'proportion': 0.4926382809391166},\n",
       "  'tutorial': {'event_users': 283,\n",
       "   'total_users': 2513,\n",
       "   'proportion': 0.11261440509351373}},\n",
       " 'B': {'main_screen_appear': {'event_users': 2493,\n",
       "   'total_users': 2537,\n",
       "   'proportion': 0.9826566811194324},\n",
       "  'cart_screen_appear': {'event_users': 1230,\n",
       "   'total_users': 2537,\n",
       "   'proportion': 0.48482459597950334},\n",
       "  'payment_screen_successful': {'event_users': 1181,\n",
       "   'total_users': 2537,\n",
       "   'proportion': 0.46551044540796216},\n",
       "  'offers_screen_appear': {'event_users': 1531,\n",
       "   'total_users': 2537,\n",
       "   'proportion': 0.6034686637761135},\n",
       "  'tutorial': {'event_users': 279,\n",
       "   'total_users': 2537,\n",
       "   'proportion': 0.10997240835632636}}}"
      ]
     },
     "execution_count": 35,
     "metadata": {},
     "output_type": "execute_result"
    }
   ],
   "source": [
    "event_data_dict"
   ]
  },
  {
   "cell_type": "markdown",
   "id": "4d4146e5",
   "metadata": {},
   "source": [
    "### Проверка гипотезы о равенстве долей"
   ]
  },
  {
   "cell_type": "markdown",
   "id": "4cf50021",
   "metadata": {},
   "source": [
    "**Сформулируем гипотезы**\n",
    "\n",
    "Нулевая гипотеза: доли пользователей, совершивших определенное событие, в группах одинаковы.\n",
    "\n",
    "Альтернативная гипотеза: доли пользователей, совершивших определенное событие, в группах различаются."
   ]
  },
  {
   "cell_type": "markdown",
   "id": "e915deb6",
   "metadata": {},
   "source": [
    "Проведём z-тест для групп по событиям. Сначала напишем функцию."
   ]
  },
  {
   "cell_type": "code",
   "execution_count": 36,
   "id": "0adf1fff",
   "metadata": {
    "ExecuteTime": {
     "end_time": "2023-08-25T09:17:16.701553Z",
     "start_time": "2023-08-25T09:17:16.697407Z"
    }
   },
   "outputs": [],
   "source": [
    "# Объявляем функцию для проведения z-теста\n",
    "def z_test(successes, trials, alpha, n=20):\n",
    "    # Скорректированный уровень значимости по методу Бонферрони\n",
    "    alpha = alpha / n\n",
    "    # Рассчитаем пропорцию успехов в первой группе\n",
    "    p1 = successes[0] / trials[0]\n",
    "    # Во второй\n",
    "    p2 = successes[1] / trials[1]\n",
    "    # И в комбинированном датасете\n",
    "    p_combined = (successes[0] + successes[1]) / (trials[0] + trials[1])\n",
    "    # Высчитываем разницу пропорций в датасетах\n",
    "    difference = p1 - p2\n",
    "    # Считаем статистику в статистических отклонениях стандартного нормального распределения\n",
    "    z_value = (\n",
    "            difference /\n",
    "            mth.sqrt(\n",
    "                p_combined *\n",
    "                (1 - p_combined) *\n",
    "                (1 / trials[0] + 1 / trials[1])\n",
    "            )\n",
    "    )\n",
    "    # Задаём стандартное нормальное распределение: среднее 0, стандартное отклонение — 1\n",
    "    distr = st.norm(0, 1)\n",
    "    # Получаем p-value\n",
    "    p_value = (1 - distr.cdf(abs(z_value))) * 2\n",
    "    # Сравниваем p-value с уровнем значимости\n",
    "    if p_value < alpha:\n",
    "        result = 'Отвергаем нулевую гипотезу: между долями есть значимая разница.'\n",
    "    else:\n",
    "        result = 'Не удалось отвергнуть нулевую гипотезу, нет оснований считать доли разными.'\n",
    "    # Возвращаем p-value и результат сравнения\n",
    "    return p_value, result"
   ]
  },
  {
   "cell_type": "markdown",
   "id": "9455ce44",
   "metadata": {},
   "source": [
    "#### Z-тест для групп A1 и A2 по событию main_screen_appear"
   ]
  },
  {
   "cell_type": "code",
   "execution_count": 37,
   "id": "a7813af3",
   "metadata": {
    "ExecuteTime": {
     "end_time": "2023-08-25T09:17:16.710227Z",
     "start_time": "2023-08-25T09:17:16.706361Z"
    }
   },
   "outputs": [
    {
     "name": "stdout",
     "output_type": "stream",
     "text": [
      "p-value: 0.7570597232046099\n",
      "Не удалось отвергнуть нулевую гипотезу, нет оснований считать доли разными.\n"
     ]
    }
   ],
   "source": [
    "successes = np.array([\n",
    "    event_data_dict['A1']['main_screen_appear']['event_users'],\n",
    "    event_data_dict['A2']['main_screen_appear']['event_users']\n",
    "])\n",
    "trials = np.array([\n",
    "    event_data_dict['A1']['main_screen_appear']['total_users'],\n",
    "    event_data_dict['A2']['main_screen_appear']['total_users']\n",
    "])\n",
    "alpha = 0.05\n",
    "p_value, result = z_test(successes, trials, alpha)\n",
    "\n",
    "print('p-value:', p_value)\n",
    "print(result)"
   ]
  },
  {
   "cell_type": "markdown",
   "id": "21ba6a26",
   "metadata": {},
   "source": [
    "#### Z-тест для групп A1 и A2 по событию offers_screen_appear"
   ]
  },
  {
   "cell_type": "code",
   "execution_count": 38,
   "id": "ec0c6eb4",
   "metadata": {
    "ExecuteTime": {
     "end_time": "2023-08-25T09:17:16.714845Z",
     "start_time": "2023-08-25T09:17:16.711312Z"
    }
   },
   "outputs": [
    {
     "name": "stdout",
     "output_type": "stream",
     "text": [
      "p-value: 0.2480954578522181\n",
      "Не удалось отвергнуть нулевую гипотезу, нет оснований считать доли разными.\n"
     ]
    }
   ],
   "source": [
    "successes = np.array([\n",
    "    event_data_dict['A1']['offers_screen_appear']['event_users'],\n",
    "    event_data_dict['A2']['offers_screen_appear']['event_users']\n",
    "])\n",
    "trials = np.array([\n",
    "    event_data_dict['A1']['offers_screen_appear']['total_users'],\n",
    "    event_data_dict['A2']['offers_screen_appear']['total_users']\n",
    "])\n",
    "alpha = 0.05\n",
    "p_value, result = z_test(successes, trials, alpha)\n",
    "\n",
    "print('p-value:', p_value)\n",
    "print(result)"
   ]
  },
  {
   "cell_type": "markdown",
   "id": "a1cc11d1",
   "metadata": {},
   "source": [
    "#### Z-тест для групп A1 и A2 по событию cart_screen_appear"
   ]
  },
  {
   "cell_type": "code",
   "execution_count": 39,
   "id": "a2086824",
   "metadata": {
    "ExecuteTime": {
     "end_time": "2023-08-25T09:17:16.718804Z",
     "start_time": "2023-08-25T09:17:16.715801Z"
    }
   },
   "outputs": [
    {
     "name": "stdout",
     "output_type": "stream",
     "text": [
      "p-value: 0.22883372237997213\n",
      "Не удалось отвергнуть нулевую гипотезу, нет оснований считать доли разными.\n"
     ]
    }
   ],
   "source": [
    "successes = np.array([\n",
    "    event_data_dict['A1']['cart_screen_appear']['event_users'],\n",
    "    event_data_dict['A2']['cart_screen_appear']['event_users']\n",
    "])\n",
    "trials = np.array([\n",
    "    event_data_dict['A1']['cart_screen_appear']['total_users'],\n",
    "    event_data_dict['A2']['cart_screen_appear']['total_users']\n",
    "])\n",
    "alpha = 0.05\n",
    "p_value, result = z_test(successes, trials, alpha)\n",
    "\n",
    "print('p-value:', p_value)\n",
    "print(result)"
   ]
  },
  {
   "cell_type": "markdown",
   "id": "e7a83eb4",
   "metadata": {},
   "source": [
    "#### Z-тест для групп A1 и A2 по событию payment_screen_successful"
   ]
  },
  {
   "cell_type": "code",
   "execution_count": 40,
   "id": "e069e14b",
   "metadata": {
    "ExecuteTime": {
     "end_time": "2023-08-25T09:17:16.773818Z",
     "start_time": "2023-08-25T09:17:16.720497Z"
    }
   },
   "outputs": [
    {
     "name": "stdout",
     "output_type": "stream",
     "text": [
      "p-value: 0.11456679313141849\n",
      "Не удалось отвергнуть нулевую гипотезу, нет оснований считать доли разными.\n"
     ]
    }
   ],
   "source": [
    "successes = np.array([\n",
    "    event_data_dict['A1']['payment_screen_successful']['event_users'],\n",
    "    event_data_dict['A2']['payment_screen_successful']['event_users']\n",
    "])\n",
    "trials = np.array([\n",
    "    event_data_dict['A1']['payment_screen_successful']['total_users'],\n",
    "    event_data_dict['A2']['payment_screen_successful']['total_users']\n",
    "])\n",
    "alpha = 0.05\n",
    "p_value, result = z_test(successes, trials, alpha)\n",
    "\n",
    "print('p-value:', p_value)\n",
    "print(result)"
   ]
  },
  {
   "cell_type": "markdown",
   "id": "3f3703db",
   "metadata": {},
   "source": [
    "#### Z-тест для групп A1 и A2 по событию tutorial"
   ]
  },
  {
   "cell_type": "code",
   "execution_count": 41,
   "id": "063fde00",
   "metadata": {
    "ExecuteTime": {
     "end_time": "2023-08-25T09:17:16.774353Z",
     "start_time": "2023-08-25T09:17:16.725316Z"
    }
   },
   "outputs": [
    {
     "name": "stdout",
     "output_type": "stream",
     "text": [
      "p-value: 0.9376996189257114\n",
      "Не удалось отвергнуть нулевую гипотезу, нет оснований считать доли разными.\n"
     ]
    }
   ],
   "source": [
    "successes = np.array([\n",
    "    event_data_dict['A1']['tutorial']['event_users'],\n",
    "    event_data_dict['A2']['tutorial']['event_users']\n",
    "])\n",
    "trials = np.array([\n",
    "    event_data_dict['A1']['tutorial']['total_users'],\n",
    "    event_data_dict['A2']['tutorial']['total_users']\n",
    "])\n",
    "alpha = 0.05\n",
    "p_value, result = z_test(successes, trials, alpha)\n",
    "\n",
    "print('p-value:', p_value)\n",
    "print(result)"
   ]
  },
  {
   "cell_type": "markdown",
   "id": "5484beeb",
   "metadata": {},
   "source": [
    "Все пять тестов не опровергли нулевую гипотезу о равенстве долей групп A1 и A2 по всем пяти событиям в приложении.\n",
    "\n",
    "Проведём тест для групп A1 и B."
   ]
  },
  {
   "cell_type": "markdown",
   "id": "3c1f3770",
   "metadata": {},
   "source": [
    "#### Z-тест для групп A1 и B по событию main_screen_appear"
   ]
  },
  {
   "cell_type": "code",
   "execution_count": 42,
   "id": "d4a848c7",
   "metadata": {
    "ExecuteTime": {
     "end_time": "2023-08-25T09:17:16.774427Z",
     "start_time": "2023-08-25T09:17:16.727511Z"
    }
   },
   "outputs": [
    {
     "name": "stdout",
     "output_type": "stream",
     "text": [
      "p-value: 0.2949721933554552\n",
      "Не удалось отвергнуть нулевую гипотезу, нет оснований считать доли разными.\n"
     ]
    }
   ],
   "source": [
    "successes = np.array([\n",
    "    event_data_dict['A1']['main_screen_appear']['event_users'],\n",
    "    event_data_dict['B']['main_screen_appear']['event_users']\n",
    "])\n",
    "trials = np.array([\n",
    "    event_data_dict['A1']['main_screen_appear']['total_users'],\n",
    "    event_data_dict['B']['main_screen_appear']['total_users']\n",
    "])\n",
    "alpha = 0.05\n",
    "p_value, result = z_test(successes, trials, alpha)\n",
    "\n",
    "print('p-value:', p_value)\n",
    "print(result)"
   ]
  },
  {
   "cell_type": "markdown",
   "id": "6b9acc1e",
   "metadata": {},
   "source": [
    "#### Z-тест для групп A1 и B по событию offers_screen_appear"
   ]
  },
  {
   "cell_type": "code",
   "execution_count": 43,
   "id": "be00b3d7",
   "metadata": {
    "ExecuteTime": {
     "end_time": "2023-08-25T09:17:16.774492Z",
     "start_time": "2023-08-25T09:17:16.734842Z"
    }
   },
   "outputs": [
    {
     "name": "stdout",
     "output_type": "stream",
     "text": [
      "p-value: 0.20836205402738917\n",
      "Не удалось отвергнуть нулевую гипотезу, нет оснований считать доли разными.\n"
     ]
    }
   ],
   "source": [
    "successes = np.array([\n",
    "    event_data_dict['A1']['offers_screen_appear']['event_users'],\n",
    "    event_data_dict['B']['offers_screen_appear']['event_users']\n",
    "])\n",
    "trials = np.array([\n",
    "    event_data_dict['A1']['offers_screen_appear']['total_users'],\n",
    "    event_data_dict['B']['offers_screen_appear']['total_users']\n",
    "])\n",
    "alpha = 0.05\n",
    "p_value, result = z_test(successes, trials, alpha)\n",
    "\n",
    "print('p-value:', p_value)\n",
    "print(result)"
   ]
  },
  {
   "cell_type": "markdown",
   "id": "6c823b5a",
   "metadata": {},
   "source": [
    "#### Z-тест для групп A1 и B по событию cart_screen_appear"
   ]
  },
  {
   "cell_type": "code",
   "execution_count": 44,
   "id": "69dedbc7",
   "metadata": {
    "ExecuteTime": {
     "end_time": "2023-08-25T09:17:16.774562Z",
     "start_time": "2023-08-25T09:17:16.739019Z"
    }
   },
   "outputs": [
    {
     "name": "stdout",
     "output_type": "stream",
     "text": [
      "p-value: 0.07842923237520116\n",
      "Не удалось отвергнуть нулевую гипотезу, нет оснований считать доли разными.\n"
     ]
    }
   ],
   "source": [
    "successes = np.array([\n",
    "    event_data_dict['A1']['cart_screen_appear']['event_users'],\n",
    "    event_data_dict['B']['cart_screen_appear']['event_users']\n",
    "])\n",
    "trials = np.array([\n",
    "    event_data_dict['A1']['cart_screen_appear']['total_users'],\n",
    "    event_data_dict['B']['cart_screen_appear']['total_users']\n",
    "])\n",
    "alpha = 0.05\n",
    "p_value, result = z_test(successes, trials, alpha)\n",
    "\n",
    "print('p-value:', p_value)\n",
    "print(result)"
   ]
  },
  {
   "cell_type": "markdown",
   "id": "2a3b8943",
   "metadata": {},
   "source": [
    "#### Z-тест для групп A1 и B по событию payment_screen_successful"
   ]
  },
  {
   "cell_type": "code",
   "execution_count": 45,
   "id": "0d2f12a6",
   "metadata": {
    "ExecuteTime": {
     "end_time": "2023-08-25T09:17:16.774753Z",
     "start_time": "2023-08-25T09:17:16.744114Z"
    }
   },
   "outputs": [
    {
     "name": "stdout",
     "output_type": "stream",
     "text": [
      "p-value: 0.2122553275697796\n",
      "Не удалось отвергнуть нулевую гипотезу, нет оснований считать доли разными.\n"
     ]
    }
   ],
   "source": [
    "successes = np.array([\n",
    "    event_data_dict['A1']['payment_screen_successful']['event_users'],\n",
    "    event_data_dict['B']['payment_screen_successful']['event_users']\n",
    "])\n",
    "trials = np.array([\n",
    "    event_data_dict['A1']['payment_screen_successful']['total_users'],\n",
    "    event_data_dict['B']['payment_screen_successful']['total_users']\n",
    "])\n",
    "alpha = 0.05\n",
    "p_value, result = z_test(successes, trials, alpha)\n",
    "\n",
    "print('p-value:', p_value)\n",
    "print(result)"
   ]
  },
  {
   "cell_type": "markdown",
   "id": "f4516c35",
   "metadata": {},
   "source": [
    "#### Z-тест для групп A1 и B по событию tutorial"
   ]
  },
  {
   "cell_type": "markdown",
   "id": "8b23ce8b",
   "metadata": {},
   "source": []
  },
  {
   "cell_type": "code",
   "execution_count": 46,
   "id": "14248a44",
   "metadata": {
    "ExecuteTime": {
     "end_time": "2023-08-25T09:17:16.774820Z",
     "start_time": "2023-08-25T09:17:16.749057Z"
    }
   },
   "outputs": [
    {
     "name": "stdout",
     "output_type": "stream",
     "text": [
      "p-value: 0.8264294010087645\n",
      "Не удалось отвергнуть нулевую гипотезу, нет оснований считать доли разными.\n"
     ]
    }
   ],
   "source": [
    "successes = np.array([\n",
    "    event_data_dict['A1']['tutorial']['event_users'],\n",
    "    event_data_dict['B']['tutorial']['event_users']\n",
    "])\n",
    "trials = np.array([\n",
    "    event_data_dict['A1']['tutorial']['total_users'],\n",
    "    event_data_dict['B']['tutorial']['total_users']\n",
    "])\n",
    "alpha = 0.05\n",
    "p_value, result = z_test(successes, trials, alpha)\n",
    "\n",
    "print('p-value:', p_value)\n",
    "print(result)"
   ]
  },
  {
   "cell_type": "markdown",
   "id": "52aa0acf",
   "metadata": {},
   "source": [
    "Сравнение групп A1 и B по событиям дало те же результаты, что и сравнение контрольных групп: нулевая гипотеза о равенстве долей принимается.\n",
    "\n",
    "Теперь сравним группы A2 и B."
   ]
  },
  {
   "cell_type": "markdown",
   "id": "14d0a227",
   "metadata": {},
   "source": [
    "#### Z-тест для групп A2 и B по событию main_screen_appear"
   ]
  },
  {
   "cell_type": "code",
   "execution_count": 47,
   "id": "6ca2d614",
   "metadata": {
    "ExecuteTime": {
     "end_time": "2023-08-25T09:17:16.774901Z",
     "start_time": "2023-08-25T09:17:16.754021Z"
    }
   },
   "outputs": [
    {
     "name": "stdout",
     "output_type": "stream",
     "text": [
      "p-value: 0.4587053616621515\n",
      "Не удалось отвергнуть нулевую гипотезу, нет оснований считать доли разными.\n"
     ]
    }
   ],
   "source": [
    "successes = np.array([\n",
    "    event_data_dict['A2']['main_screen_appear']['event_users'],\n",
    "    event_data_dict['B']['main_screen_appear']['event_users']\n",
    "])\n",
    "trials = np.array([\n",
    "    event_data_dict['A2']['main_screen_appear']['total_users'],\n",
    "    event_data_dict['B']['main_screen_appear']['total_users']\n",
    "])\n",
    "alpha = 0.05\n",
    "p_value, result = z_test(successes, trials, alpha)\n",
    "\n",
    "print('p-value:', p_value)\n",
    "print(result)"
   ]
  },
  {
   "cell_type": "markdown",
   "id": "275b0205",
   "metadata": {},
   "source": [
    "#### Z-тест для групп A2 и B по событию offers_screen_appear"
   ]
  },
  {
   "cell_type": "code",
   "execution_count": 48,
   "id": "e1dcb8ab",
   "metadata": {
    "ExecuteTime": {
     "end_time": "2023-08-25T09:17:16.774963Z",
     "start_time": "2023-08-25T09:17:16.759044Z"
    }
   },
   "outputs": [
    {
     "name": "stdout",
     "output_type": "stream",
     "text": [
      "p-value: 0.9197817830592261\n",
      "Не удалось отвергнуть нулевую гипотезу, нет оснований считать доли разными.\n"
     ]
    }
   ],
   "source": [
    "successes = np.array([\n",
    "    event_data_dict['A2']['offers_screen_appear']['event_users'],\n",
    "    event_data_dict['B']['offers_screen_appear']['event_users']\n",
    "])\n",
    "trials = np.array([\n",
    "    event_data_dict['A2']['offers_screen_appear']['total_users'],\n",
    "    event_data_dict['B']['offers_screen_appear']['total_users']\n",
    "])\n",
    "alpha = 0.05\n",
    "p_value, result = z_test(successes, trials, alpha)\n",
    "\n",
    "print('p-value:', p_value)\n",
    "print(result)"
   ]
  },
  {
   "cell_type": "markdown",
   "id": "dfe0c67d",
   "metadata": {},
   "source": [
    "#### Z-тест для групп A2 и B по событию cart_screen_appear"
   ]
  },
  {
   "cell_type": "code",
   "execution_count": 49,
   "id": "31aa087e",
   "metadata": {
    "ExecuteTime": {
     "end_time": "2023-08-25T09:17:16.775044Z",
     "start_time": "2023-08-25T09:17:16.764148Z"
    }
   },
   "outputs": [
    {
     "name": "stdout",
     "output_type": "stream",
     "text": [
      "p-value: 0.5786197879539783\n",
      "Не удалось отвергнуть нулевую гипотезу, нет оснований считать доли разными.\n"
     ]
    }
   ],
   "source": [
    "successes = np.array([\n",
    "    event_data_dict['A2']['cart_screen_appear']['event_users'],\n",
    "    event_data_dict['B']['cart_screen_appear']['event_users']\n",
    "])\n",
    "trials = np.array([\n",
    "    event_data_dict['A2']['cart_screen_appear']['total_users'],\n",
    "    event_data_dict['B']['cart_screen_appear']['total_users']\n",
    "])\n",
    "alpha = 0.05\n",
    "p_value, result = z_test(successes, trials, alpha)\n",
    "\n",
    "print('p-value:', p_value)\n",
    "print(result)"
   ]
  },
  {
   "cell_type": "markdown",
   "id": "aa1f0cf4",
   "metadata": {},
   "source": [
    "#### Z-тест для групп A2 и B по событию payment_screen_successful"
   ]
  },
  {
   "cell_type": "code",
   "execution_count": 50,
   "id": "c6a25a3e",
   "metadata": {
    "ExecuteTime": {
     "end_time": "2023-08-25T09:17:16.775105Z",
     "start_time": "2023-08-25T09:17:16.768646Z"
    }
   },
   "outputs": [
    {
     "name": "stdout",
     "output_type": "stream",
     "text": [
      "p-value: 0.7373415053803964\n",
      "Не удалось отвергнуть нулевую гипотезу, нет оснований считать доли разными.\n"
     ]
    }
   ],
   "source": [
    "successes = np.array([\n",
    "    event_data_dict['A2']['payment_screen_successful']['event_users'],\n",
    "    event_data_dict['B']['payment_screen_successful']['event_users']\n",
    "])\n",
    "trials = np.array([\n",
    "    event_data_dict['A2']['payment_screen_successful']['total_users'],\n",
    "    event_data_dict['B']['payment_screen_successful']['total_users']\n",
    "])\n",
    "alpha = 0.05\n",
    "p_value, result = z_test(successes, trials, alpha)\n",
    "\n",
    "print('p-value:', p_value)\n",
    "print(result)"
   ]
  },
  {
   "cell_type": "markdown",
   "id": "ae04afff",
   "metadata": {},
   "source": [
    "#### Z-тест для групп A2 и B по событию tutorial"
   ]
  },
  {
   "cell_type": "code",
   "execution_count": 51,
   "id": "43b08882",
   "metadata": {
    "ExecuteTime": {
     "end_time": "2023-08-25T09:17:16.775181Z",
     "start_time": "2023-08-25T09:17:16.773711Z"
    }
   },
   "outputs": [
    {
     "name": "stdout",
     "output_type": "stream",
     "text": [
      "p-value: 0.765323922474501\n",
      "Не удалось отвергнуть нулевую гипотезу, нет оснований считать доли разными.\n"
     ]
    }
   ],
   "source": [
    "successes = np.array([\n",
    "    event_data_dict['A2']['tutorial']['event_users'],\n",
    "    event_data_dict['B']['tutorial']['event_users']\n",
    "])\n",
    "trials = np.array([\n",
    "    event_data_dict['A2']['tutorial']['total_users'],\n",
    "    event_data_dict['B']['tutorial']['total_users']\n",
    "])\n",
    "alpha = 0.05\n",
    "p_value, result = z_test(successes, trials, alpha)\n",
    "\n",
    "print('p-value:', p_value)\n",
    "print(result)"
   ]
  },
  {
   "cell_type": "markdown",
   "id": "e0bc83d0",
   "metadata": {},
   "source": [
    "Мы получили те же результаты: принимаем нулевую гипотезу о равенстве долей в группах правдоподобной, как и в двух предыдущих сравнениях.\n",
    "\n",
    "Сравним группу с изменённым шрифтом (B) и объединённую контрольную группу (A1 + A2)."
   ]
  },
  {
   "cell_type": "markdown",
   "id": "f7c7c9b5",
   "metadata": {},
   "source": [
    "#### Z-тест для групп A1 + A2 и B по событию main_screen_appear"
   ]
  },
  {
   "cell_type": "code",
   "execution_count": 52,
   "id": "994b88fe",
   "metadata": {
    "ExecuteTime": {
     "end_time": "2023-08-25T09:17:16.786625Z",
     "start_time": "2023-08-25T09:17:16.777387Z"
    }
   },
   "outputs": [
    {
     "name": "stdout",
     "output_type": "stream",
     "text": [
      "p-value: 0.29424526837179577\n",
      "Не удалось отвергнуть нулевую гипотезу, нет оснований считать доли разными.\n"
     ]
    }
   ],
   "source": [
    "successes = np.array([\n",
    "    (event_data_dict['A1']['main_screen_appear']['event_users'] +\n",
    "     event_data_dict['A2']['main_screen_appear']['event_users']),\n",
    "    event_data_dict['B']['main_screen_appear']['event_users']\n",
    "])\n",
    "trials = np.array([\n",
    "    (event_data_dict['A1']['main_screen_appear']['total_users'] +\n",
    "     event_data_dict['A2']['main_screen_appear']['total_users']),\n",
    "    event_data_dict['B']['main_screen_appear']['total_users']\n",
    "])\n",
    "alpha = 0.05\n",
    "p_value, result = z_test(successes, trials, alpha)\n",
    "\n",
    "print('p-value:', p_value)\n",
    "print(result)"
   ]
  },
  {
   "cell_type": "markdown",
   "id": "fde0b203",
   "metadata": {},
   "source": [
    "#### Z-тест для групп A1 + A2 и B по событию offers_screen_appear"
   ]
  },
  {
   "cell_type": "code",
   "execution_count": 53,
   "id": "0f01ebfd",
   "metadata": {
    "ExecuteTime": {
     "end_time": "2023-08-25T09:17:16.786783Z",
     "start_time": "2023-08-25T09:17:16.782103Z"
    }
   },
   "outputs": [
    {
     "name": "stdout",
     "output_type": "stream",
     "text": [
      "p-value: 0.43425549655188256\n",
      "Не удалось отвергнуть нулевую гипотезу, нет оснований считать доли разными.\n"
     ]
    }
   ],
   "source": [
    "successes = np.array([\n",
    "    (event_data_dict['A1']['offers_screen_appear']['event_users'] +\n",
    "     event_data_dict['A2']['offers_screen_appear']['event_users']),\n",
    "    event_data_dict['B']['offers_screen_appear']['event_users']\n",
    "])\n",
    "trials = np.array([\n",
    "    (event_data_dict['A1']['offers_screen_appear']['total_users'] +\n",
    "     event_data_dict['A2']['offers_screen_appear']['total_users']),\n",
    "    event_data_dict['B']['offers_screen_appear']['total_users']\n",
    "])\n",
    "alpha = 0.05\n",
    "p_value, result = z_test(successes, trials, alpha)\n",
    "\n",
    "print('p-value:', p_value)\n",
    "print(result)"
   ]
  },
  {
   "cell_type": "markdown",
   "id": "c4169bc9",
   "metadata": {},
   "source": [
    "#### Z-тест для групп A1 + A2 и B по событию cart_screen_appear"
   ]
  },
  {
   "cell_type": "code",
   "execution_count": 54,
   "id": "5fd94177",
   "metadata": {
    "ExecuteTime": {
     "end_time": "2023-08-25T09:17:16.796055Z",
     "start_time": "2023-08-25T09:17:16.787540Z"
    }
   },
   "outputs": [
    {
     "name": "stdout",
     "output_type": "stream",
     "text": [
      "p-value: 0.18175875284404386\n",
      "Не удалось отвергнуть нулевую гипотезу, нет оснований считать доли разными.\n"
     ]
    }
   ],
   "source": [
    "successes = np.array([\n",
    "    (event_data_dict['A1']['cart_screen_appear']['event_users'] +\n",
    "     event_data_dict['A2']['cart_screen_appear']['event_users']),\n",
    "    event_data_dict['B']['cart_screen_appear']['event_users']\n",
    "])\n",
    "trials = np.array([\n",
    "    (event_data_dict['A1']['cart_screen_appear']['total_users'] +\n",
    "     event_data_dict['A2']['cart_screen_appear']['total_users']),\n",
    "    event_data_dict['B']['cart_screen_appear']['total_users']\n",
    "])\n",
    "alpha = 0.05\n",
    "p_value, result = z_test(successes, trials, alpha)\n",
    "\n",
    "print('p-value:', p_value)\n",
    "print(result)"
   ]
  },
  {
   "cell_type": "markdown",
   "id": "f0fc559d",
   "metadata": {},
   "source": [
    "#### Z-тест для групп A1 + A2 и B по событию payment_screen_successful"
   ]
  },
  {
   "cell_type": "code",
   "execution_count": 55,
   "id": "1a3ac59d",
   "metadata": {
    "ExecuteTime": {
     "end_time": "2023-08-25T09:17:16.958913Z",
     "start_time": "2023-08-25T09:17:16.789503Z"
    }
   },
   "outputs": [
    {
     "name": "stdout",
     "output_type": "stream",
     "text": [
      "p-value: 0.6004294282308704\n",
      "Не удалось отвергнуть нулевую гипотезу, нет оснований считать доли разными.\n"
     ]
    }
   ],
   "source": [
    "successes = np.array([\n",
    "    (event_data_dict['A1']['payment_screen_successful']['event_users'] +\n",
    "     event_data_dict['A2']['payment_screen_successful']['event_users']),\n",
    "    event_data_dict['B']['payment_screen_successful']['event_users']\n",
    "])\n",
    "trials = np.array([\n",
    "    (event_data_dict['A1']['payment_screen_successful']['total_users'] +\n",
    "     event_data_dict['A2']['payment_screen_successful']['total_users']),\n",
    "    event_data_dict['B']['payment_screen_successful']['total_users']\n",
    "])\n",
    "alpha = 0.05\n",
    "p_value, result = z_test(successes, trials, alpha)\n",
    "\n",
    "print('p-value:', p_value)\n",
    "print(result)"
   ]
  },
  {
   "cell_type": "markdown",
   "id": "60aba35e",
   "metadata": {},
   "source": [
    "#### Z-тест для групп A1 + A2 и B по событию tutorial"
   ]
  },
  {
   "cell_type": "code",
   "execution_count": 56,
   "id": "d9ef222c",
   "metadata": {
    "ExecuteTime": {
     "end_time": "2023-08-25T09:17:16.983742Z",
     "start_time": "2023-08-25T09:17:16.797937Z"
    }
   },
   "outputs": [
    {
     "name": "stdout",
     "output_type": "stream",
     "text": [
      "p-value: 0.764862472531507\n",
      "Не удалось отвергнуть нулевую гипотезу, нет оснований считать доли разными.\n"
     ]
    }
   ],
   "source": [
    "successes = np.array([\n",
    "    (event_data_dict['A1']['tutorial']['event_users'] +\n",
    "     event_data_dict['A2']['tutorial']['event_users']),\n",
    "    event_data_dict['B']['tutorial']['event_users']\n",
    "])\n",
    "trials = np.array([\n",
    "    (event_data_dict['A1']['tutorial']['total_users'] +\n",
    "     event_data_dict['A2']['tutorial']['total_users']),\n",
    "    event_data_dict['B']['tutorial']['total_users']\n",
    "])\n",
    "alpha = 0.05\n",
    "p_value, result = z_test(successes, trials, alpha)\n",
    "\n",
    "print('p-value:', p_value)\n",
    "print(result)"
   ]
  },
  {
   "cell_type": "markdown",
   "id": "4ddc6433",
   "metadata": {},
   "source": [
    "Как и в предыдущих экспериментах, в результате сравнения объединённой контрольной группы (A1 + A2) и группы с изменённым шрифтом мы не можем сказать, что отличие является статистически достоверным."
   ]
  },
  {
   "cell_type": "markdown",
   "id": "3854c399",
   "metadata": {},
   "source": [
    "# Выводы\n",
    "\n",
    "- Основной период активности пользователей приходится на период с 8:00 до 16:00.\n",
    "- Анализ воронки событий показал, что чаще всего пользователи взаимодействовали со стартовой страницей приложения — main_screen_appear. 118 857 раз, или примерно 48% от всех событий. На втором месте offers_screen_appear — 46 758 раз (около 19%).\n",
    "- Хоть раз main_screen_appear совершали более 98% пользователей, offers_screen_appear — 61%, cart_screen_appear — 49%, payment_screen_successful — 46%, tutorial — 11%.\n",
    "- Доля пользователей, которая доходит от первого щага (main_screen_appear) до оплаты (payment_screen_successful) — 47%. Мы не стали отталкиваться от tutorial как первого шага, потому что по числу пользователей, совершивших это событие, нельзя назвать его обязательным при использовании приложения.\n",
    "- Больше всего пользователей теряется на шаге от main_screen_appear к offers_screen_appear — 62% доходят от одного шага до другого. Возможно, пользователи попадая на главный экран, почему-то часто не хотят переходить к экрану с товарами. Лучшая конвертация от cart_screen_appear к payment_screen_successful — более 94%.\n",
    "- Группа B имеет наибольшее количество пользователей (85454), но в целом выборка выглядит уравновешенной и корректной. У A1 и A2 — 80051 и 77824 соответственно.\n",
    "- В результате z-теста для групп по событиям ни разу не удалось опровергнуть нулевую гипотезу о равенстве долей.\n",
    "- Исходя из этого, можно сказать о незначительном влиянии изменения шрифта на пользовательское поведение в приложении."
   ]
  }
 ],
 "metadata": {
  "ExecuteTimeLog": [
   {
    "duration": 1100,
    "start_time": "2023-08-24T15:28:54.336Z"
   },
   {
    "duration": 163,
    "start_time": "2023-08-24T15:28:55.438Z"
   },
   {
    "duration": 11,
    "start_time": "2023-08-24T15:28:55.602Z"
   },
   {
    "duration": 19,
    "start_time": "2023-08-24T15:28:55.614Z"
   },
   {
    "duration": 507,
    "start_time": "2023-08-24T15:28:55.634Z"
   },
   {
    "duration": 252,
    "start_time": "2023-08-24T15:28:56.142Z"
   },
   {
    "duration": 3,
    "start_time": "2023-08-24T15:28:56.396Z"
   },
   {
    "duration": 43,
    "start_time": "2023-08-24T15:28:56.401Z"
   },
   {
    "duration": 91,
    "start_time": "2023-08-24T15:28:56.445Z"
   },
   {
    "duration": 95,
    "start_time": "2023-08-24T15:28:56.539Z"
   },
   {
    "duration": 16,
    "start_time": "2023-08-24T15:28:56.636Z"
   },
   {
    "duration": 29,
    "start_time": "2023-08-24T15:28:56.654Z"
   },
   {
    "duration": 10,
    "start_time": "2023-08-24T15:28:56.684Z"
   },
   {
    "duration": 33,
    "start_time": "2023-08-24T15:28:56.695Z"
   },
   {
    "duration": 53,
    "start_time": "2023-08-24T15:28:56.730Z"
   },
   {
    "duration": 165,
    "start_time": "2023-08-24T15:28:56.785Z"
   },
   {
    "duration": 13,
    "start_time": "2023-08-24T15:28:56.952Z"
   },
   {
    "duration": 3,
    "start_time": "2023-08-24T15:28:56.966Z"
   },
   {
    "duration": 12,
    "start_time": "2023-08-24T15:28:56.971Z"
   },
   {
    "duration": 7,
    "start_time": "2023-08-24T15:28:56.985Z"
   },
   {
    "duration": 10,
    "start_time": "2023-08-24T15:28:56.994Z"
   },
   {
    "duration": 519,
    "start_time": "2023-08-24T15:28:57.005Z"
   },
   {
    "duration": 272,
    "start_time": "2023-08-24T15:28:57.526Z"
   },
   {
    "duration": 16,
    "start_time": "2023-08-24T15:28:57.800Z"
   },
   {
    "duration": 43,
    "start_time": "2023-08-24T15:28:57.817Z"
   },
   {
    "duration": 46,
    "start_time": "2023-08-24T15:28:57.862Z"
   },
   {
    "duration": 64,
    "start_time": "2023-08-24T15:28:57.910Z"
   },
   {
    "duration": 7,
    "start_time": "2023-08-24T15:28:57.977Z"
   },
   {
    "duration": 9,
    "start_time": "2023-08-24T15:28:57.986Z"
   },
   {
    "duration": 24,
    "start_time": "2023-08-24T15:28:57.996Z"
   },
   {
    "duration": 46,
    "start_time": "2023-08-24T15:28:58.021Z"
   },
   {
    "duration": 10,
    "start_time": "2023-08-24T15:28:58.069Z"
   },
   {
    "duration": 273,
    "start_time": "2023-08-24T15:28:58.080Z"
   },
   {
    "duration": 7,
    "start_time": "2023-08-24T15:28:58.355Z"
   },
   {
    "duration": 6,
    "start_time": "2023-08-24T15:28:58.364Z"
   },
   {
    "duration": 13,
    "start_time": "2023-08-24T15:28:58.372Z"
   },
   {
    "duration": 17,
    "start_time": "2023-08-24T15:28:58.387Z"
   },
   {
    "duration": 7,
    "start_time": "2023-08-24T15:28:58.406Z"
   },
   {
    "duration": 17,
    "start_time": "2023-08-24T15:28:58.415Z"
   },
   {
    "duration": 25,
    "start_time": "2023-08-24T15:28:58.434Z"
   },
   {
    "duration": 20,
    "start_time": "2023-08-24T15:28:58.461Z"
   },
   {
    "duration": 10,
    "start_time": "2023-08-24T15:28:58.482Z"
   },
   {
    "duration": 7,
    "start_time": "2023-08-24T15:28:58.494Z"
   },
   {
    "duration": 17,
    "start_time": "2023-08-24T15:28:58.502Z"
   },
   {
    "duration": 11,
    "start_time": "2023-08-24T15:28:58.521Z"
   },
   {
    "duration": 22,
    "start_time": "2023-08-24T15:28:58.534Z"
   },
   {
    "duration": 22,
    "start_time": "2023-08-24T15:28:58.558Z"
   },
   {
    "duration": 20,
    "start_time": "2023-08-24T15:28:58.582Z"
   },
   {
    "duration": 30,
    "start_time": "2023-08-24T15:28:58.604Z"
   },
   {
    "duration": 26,
    "start_time": "2023-08-24T15:28:58.636Z"
   },
   {
    "duration": 12,
    "start_time": "2023-08-24T15:28:58.664Z"
   },
   {
    "duration": 6,
    "start_time": "2023-08-24T15:28:58.678Z"
   },
   {
    "duration": 11,
    "start_time": "2023-08-24T15:28:58.685Z"
   },
   {
    "duration": 9,
    "start_time": "2023-08-24T15:28:58.697Z"
   },
   {
    "duration": 9,
    "start_time": "2023-08-24T15:28:58.708Z"
   },
   {
    "duration": 1200,
    "start_time": "2023-08-25T15:19:35.257Z"
   },
   {
    "duration": 539,
    "start_time": "2023-08-25T15:19:36.459Z"
   },
   {
    "duration": 11,
    "start_time": "2023-08-25T15:19:37.000Z"
   },
   {
    "duration": 27,
    "start_time": "2023-08-25T15:19:37.013Z"
   },
   {
    "duration": 527,
    "start_time": "2023-08-25T15:19:37.043Z"
   },
   {
    "duration": 272,
    "start_time": "2023-08-25T15:19:37.572Z"
   },
   {
    "duration": 4,
    "start_time": "2023-08-25T15:19:37.846Z"
   },
   {
    "duration": 23,
    "start_time": "2023-08-25T15:19:37.851Z"
   },
   {
    "duration": 94,
    "start_time": "2023-08-25T15:19:37.876Z"
   },
   {
    "duration": 102,
    "start_time": "2023-08-25T15:19:37.971Z"
   },
   {
    "duration": 4,
    "start_time": "2023-08-25T15:19:38.075Z"
   },
   {
    "duration": 36,
    "start_time": "2023-08-25T15:19:38.081Z"
   },
   {
    "duration": 17,
    "start_time": "2023-08-25T15:19:38.119Z"
   },
   {
    "duration": 52,
    "start_time": "2023-08-25T15:19:38.140Z"
   },
   {
    "duration": 58,
    "start_time": "2023-08-25T15:19:38.193Z"
   },
   {
    "duration": 184,
    "start_time": "2023-08-25T15:19:38.254Z"
   },
   {
    "duration": 17,
    "start_time": "2023-08-25T15:19:38.440Z"
   },
   {
    "duration": 15,
    "start_time": "2023-08-25T15:19:38.459Z"
   },
   {
    "duration": 36,
    "start_time": "2023-08-25T15:19:38.476Z"
   },
   {
    "duration": 15,
    "start_time": "2023-08-25T15:19:38.514Z"
   },
   {
    "duration": 12,
    "start_time": "2023-08-25T15:19:38.532Z"
   },
   {
    "duration": 551,
    "start_time": "2023-08-25T15:19:38.547Z"
   },
   {
    "duration": 1061,
    "start_time": "2023-08-25T15:19:39.100Z"
   },
   {
    "duration": 174,
    "start_time": "2023-08-25T15:19:40.163Z"
   },
   {
    "duration": 26,
    "start_time": "2023-08-25T15:19:40.342Z"
   },
   {
    "duration": 106,
    "start_time": "2023-08-25T15:19:40.370Z"
   },
   {
    "duration": 282,
    "start_time": "2023-08-25T15:19:40.479Z"
   },
   {
    "duration": 91,
    "start_time": "2023-08-25T15:19:40.762Z"
   },
   {
    "duration": 8,
    "start_time": "2023-08-25T15:19:40.855Z"
   },
   {
    "duration": 62,
    "start_time": "2023-08-25T15:19:40.865Z"
   },
   {
    "duration": 60,
    "start_time": "2023-08-25T15:19:40.929Z"
   },
   {
    "duration": 248,
    "start_time": "2023-08-25T15:19:40.991Z"
   },
   {
    "duration": 93,
    "start_time": "2023-08-25T15:19:41.243Z"
   },
   {
    "duration": 422,
    "start_time": "2023-08-25T15:19:41.338Z"
   },
   {
    "duration": 12,
    "start_time": "2023-08-25T15:19:41.763Z"
   },
   {
    "duration": 50,
    "start_time": "2023-08-25T15:19:41.779Z"
   },
   {
    "duration": 16,
    "start_time": "2023-08-25T15:19:41.835Z"
   },
   {
    "duration": 8,
    "start_time": "2023-08-25T15:19:41.853Z"
   },
   {
    "duration": 6,
    "start_time": "2023-08-25T15:19:41.863Z"
   },
   {
    "duration": 6,
    "start_time": "2023-08-25T15:19:41.871Z"
   },
   {
    "duration": 6,
    "start_time": "2023-08-25T15:19:41.881Z"
   },
   {
    "duration": 7,
    "start_time": "2023-08-25T15:19:41.888Z"
   },
   {
    "duration": 35,
    "start_time": "2023-08-25T15:19:41.897Z"
   },
   {
    "duration": 8,
    "start_time": "2023-08-25T15:19:41.934Z"
   },
   {
    "duration": 7,
    "start_time": "2023-08-25T15:19:41.944Z"
   },
   {
    "duration": 13,
    "start_time": "2023-08-25T15:19:41.954Z"
   },
   {
    "duration": 13,
    "start_time": "2023-08-25T15:19:41.969Z"
   },
   {
    "duration": 11,
    "start_time": "2023-08-25T15:19:41.984Z"
   },
   {
    "duration": 31,
    "start_time": "2023-08-25T15:19:41.997Z"
   },
   {
    "duration": 11,
    "start_time": "2023-08-25T15:19:42.032Z"
   },
   {
    "duration": 8,
    "start_time": "2023-08-25T15:19:42.046Z"
   },
   {
    "duration": 20,
    "start_time": "2023-08-25T15:19:42.056Z"
   },
   {
    "duration": 10,
    "start_time": "2023-08-25T15:19:42.078Z"
   },
   {
    "duration": 6,
    "start_time": "2023-08-25T15:19:42.092Z"
   },
   {
    "duration": 9,
    "start_time": "2023-08-25T15:19:42.126Z"
   },
   {
    "duration": 8,
    "start_time": "2023-08-25T15:19:42.137Z"
   }
  ],
  "kernelspec": {
   "display_name": "Python 3 (ipykernel)",
   "language": "python",
   "name": "python3"
  },
  "language_info": {
   "codemirror_mode": {
    "name": "ipython",
    "version": 3
   },
   "file_extension": ".py",
   "mimetype": "text/x-python",
   "name": "python",
   "nbconvert_exporter": "python",
   "pygments_lexer": "ipython3",
   "version": "3.9.17"
  },
  "toc": {
   "base_numbering": 1,
   "nav_menu": {},
   "number_sections": true,
   "sideBar": true,
   "skip_h1_title": true,
   "title_cell": "Table of Contents",
   "title_sidebar": "Contents",
   "toc_cell": false,
   "toc_position": {},
   "toc_section_display": true,
   "toc_window_display": false
  }
 },
 "nbformat": 4,
 "nbformat_minor": 5
}
